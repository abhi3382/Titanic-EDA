{
 "cells": [
  {
   "cell_type": "code",
   "execution_count": null,
   "id": "e5cd0b69",
   "metadata": {
    "papermill": {
     "duration": 0.017835,
     "end_time": "2022-08-03T17:18:43.831597",
     "exception": false,
     "start_time": "2022-08-03T17:18:43.813762",
     "status": "completed"
    },
    "tags": []
   },
   "outputs": [],
   "source": []
  },
  {
   "cell_type": "code",
   "execution_count": 1,
   "id": "38c3848c",
   "metadata": {
    "_cell_guid": "b1076dfc-b9ad-4769-8c92-a6c4dae69d19",
    "_uuid": "8f2839f25d086af736a60e9eeb907d3b93b6e0e5",
    "execution": {
     "iopub.execute_input": "2022-08-03T17:18:43.867601Z",
     "iopub.status.busy": "2022-08-03T17:18:43.867123Z",
     "iopub.status.idle": "2022-08-03T17:18:43.882199Z",
     "shell.execute_reply": "2022-08-03T17:18:43.881129Z"
    },
    "papermill": {
     "duration": 0.035027,
     "end_time": "2022-08-03T17:18:43.884827",
     "exception": false,
     "start_time": "2022-08-03T17:18:43.849800",
     "status": "completed"
    },
    "tags": []
   },
   "outputs": [
    {
     "name": "stdout",
     "output_type": "stream",
     "text": [
      "/kaggle/input/titanic/train.csv\n",
      "/kaggle/input/titanic/test.csv\n",
      "/kaggle/input/titanic/gender_submission.csv\n"
     ]
    }
   ],
   "source": [
    "# This Python 3 environment comes with many helpful analytics libraries installed\n",
    "# It is defined by the kaggle/python Docker image: https://github.com/kaggle/docker-python\n",
    "# For example, here's several helpful packages to load\n",
    "\n",
    "import numpy as np # linear algebra\n",
    "import pandas as pd # data processing, CSV file I/O (e.g. pd.read_csv)\n",
    "\n",
    "# Input data files are available in the read-only \"../input/\" directory\n",
    "# For example, running this (by clicking run or pressing Shift+Enter) will list all files under the input directory\n",
    "\n",
    "import os\n",
    "for dirname, _, filenames in os.walk('/kaggle/input'):\n",
    "    for filename in filenames:\n",
    "        print(os.path.join(dirname, filename))\n",
    "\n",
    "# You can write up to 20GB to the current directory (/kaggle/working/) that gets preserved as output when you create a version using \"Save & Run All\" \n",
    "# You can also write temporary files to /kaggle/temp/, but they won't be saved outside of the current session"
   ]
  },
  {
   "cell_type": "code",
   "execution_count": 2,
   "id": "5aea7f9b",
   "metadata": {
    "execution": {
     "iopub.execute_input": "2022-08-03T17:18:43.918921Z",
     "iopub.status.busy": "2022-08-03T17:18:43.918529Z",
     "iopub.status.idle": "2022-08-03T17:18:45.044527Z",
     "shell.execute_reply": "2022-08-03T17:18:45.043326Z"
    },
    "papermill": {
     "duration": 1.146118,
     "end_time": "2022-08-03T17:18:45.047271",
     "exception": false,
     "start_time": "2022-08-03T17:18:43.901153",
     "status": "completed"
    },
    "tags": []
   },
   "outputs": [],
   "source": [
    "import seaborn as sns\n",
    "import matplotlib.pyplot as plt\n",
    "%matplotlib inline"
   ]
  },
  {
   "cell_type": "code",
   "execution_count": 3,
   "id": "1c5e1629",
   "metadata": {
    "execution": {
     "iopub.execute_input": "2022-08-03T17:18:45.082332Z",
     "iopub.status.busy": "2022-08-03T17:18:45.081868Z",
     "iopub.status.idle": "2022-08-03T17:18:45.110555Z",
     "shell.execute_reply": "2022-08-03T17:18:45.109543Z"
    },
    "papermill": {
     "duration": 0.048932,
     "end_time": "2022-08-03T17:18:45.112911",
     "exception": false,
     "start_time": "2022-08-03T17:18:45.063979",
     "status": "completed"
    },
    "tags": []
   },
   "outputs": [],
   "source": [
    "df_train = pd.read_csv('/kaggle/input/titanic/train.csv')\n",
    "df_test = pd.read_csv('/kaggle/input/titanic/test.csv')"
   ]
  },
  {
   "cell_type": "code",
   "execution_count": 4,
   "id": "d3dd1daa",
   "metadata": {
    "execution": {
     "iopub.execute_input": "2022-08-03T17:18:45.146969Z",
     "iopub.status.busy": "2022-08-03T17:18:45.146249Z",
     "iopub.status.idle": "2022-08-03T17:18:45.169274Z",
     "shell.execute_reply": "2022-08-03T17:18:45.168427Z"
    },
    "papermill": {
     "duration": 0.042526,
     "end_time": "2022-08-03T17:18:45.171348",
     "exception": false,
     "start_time": "2022-08-03T17:18:45.128822",
     "status": "completed"
    },
    "tags": []
   },
   "outputs": [
    {
     "data": {
      "text/html": [
       "<div>\n",
       "<style scoped>\n",
       "    .dataframe tbody tr th:only-of-type {\n",
       "        vertical-align: middle;\n",
       "    }\n",
       "\n",
       "    .dataframe tbody tr th {\n",
       "        vertical-align: top;\n",
       "    }\n",
       "\n",
       "    .dataframe thead th {\n",
       "        text-align: right;\n",
       "    }\n",
       "</style>\n",
       "<table border=\"1\" class=\"dataframe\">\n",
       "  <thead>\n",
       "    <tr style=\"text-align: right;\">\n",
       "      <th></th>\n",
       "      <th>PassengerId</th>\n",
       "      <th>Survived</th>\n",
       "      <th>Pclass</th>\n",
       "      <th>Name</th>\n",
       "      <th>Sex</th>\n",
       "      <th>Age</th>\n",
       "      <th>SibSp</th>\n",
       "      <th>Parch</th>\n",
       "      <th>Ticket</th>\n",
       "      <th>Fare</th>\n",
       "      <th>Cabin</th>\n",
       "      <th>Embarked</th>\n",
       "    </tr>\n",
       "  </thead>\n",
       "  <tbody>\n",
       "    <tr>\n",
       "      <th>0</th>\n",
       "      <td>1</td>\n",
       "      <td>0</td>\n",
       "      <td>3</td>\n",
       "      <td>Braund, Mr. Owen Harris</td>\n",
       "      <td>male</td>\n",
       "      <td>22.0</td>\n",
       "      <td>1</td>\n",
       "      <td>0</td>\n",
       "      <td>A/5 21171</td>\n",
       "      <td>7.2500</td>\n",
       "      <td>NaN</td>\n",
       "      <td>S</td>\n",
       "    </tr>\n",
       "    <tr>\n",
       "      <th>1</th>\n",
       "      <td>2</td>\n",
       "      <td>1</td>\n",
       "      <td>1</td>\n",
       "      <td>Cumings, Mrs. John Bradley (Florence Briggs Th...</td>\n",
       "      <td>female</td>\n",
       "      <td>38.0</td>\n",
       "      <td>1</td>\n",
       "      <td>0</td>\n",
       "      <td>PC 17599</td>\n",
       "      <td>71.2833</td>\n",
       "      <td>C85</td>\n",
       "      <td>C</td>\n",
       "    </tr>\n",
       "    <tr>\n",
       "      <th>2</th>\n",
       "      <td>3</td>\n",
       "      <td>1</td>\n",
       "      <td>3</td>\n",
       "      <td>Heikkinen, Miss. Laina</td>\n",
       "      <td>female</td>\n",
       "      <td>26.0</td>\n",
       "      <td>0</td>\n",
       "      <td>0</td>\n",
       "      <td>STON/O2. 3101282</td>\n",
       "      <td>7.9250</td>\n",
       "      <td>NaN</td>\n",
       "      <td>S</td>\n",
       "    </tr>\n",
       "    <tr>\n",
       "      <th>3</th>\n",
       "      <td>4</td>\n",
       "      <td>1</td>\n",
       "      <td>1</td>\n",
       "      <td>Futrelle, Mrs. Jacques Heath (Lily May Peel)</td>\n",
       "      <td>female</td>\n",
       "      <td>35.0</td>\n",
       "      <td>1</td>\n",
       "      <td>0</td>\n",
       "      <td>113803</td>\n",
       "      <td>53.1000</td>\n",
       "      <td>C123</td>\n",
       "      <td>S</td>\n",
       "    </tr>\n",
       "    <tr>\n",
       "      <th>4</th>\n",
       "      <td>5</td>\n",
       "      <td>0</td>\n",
       "      <td>3</td>\n",
       "      <td>Allen, Mr. William Henry</td>\n",
       "      <td>male</td>\n",
       "      <td>35.0</td>\n",
       "      <td>0</td>\n",
       "      <td>0</td>\n",
       "      <td>373450</td>\n",
       "      <td>8.0500</td>\n",
       "      <td>NaN</td>\n",
       "      <td>S</td>\n",
       "    </tr>\n",
       "  </tbody>\n",
       "</table>\n",
       "</div>"
      ],
      "text/plain": [
       "   PassengerId  Survived  Pclass  \\\n",
       "0            1         0       3   \n",
       "1            2         1       1   \n",
       "2            3         1       3   \n",
       "3            4         1       1   \n",
       "4            5         0       3   \n",
       "\n",
       "                                                Name     Sex   Age  SibSp  \\\n",
       "0                            Braund, Mr. Owen Harris    male  22.0      1   \n",
       "1  Cumings, Mrs. John Bradley (Florence Briggs Th...  female  38.0      1   \n",
       "2                             Heikkinen, Miss. Laina  female  26.0      0   \n",
       "3       Futrelle, Mrs. Jacques Heath (Lily May Peel)  female  35.0      1   \n",
       "4                           Allen, Mr. William Henry    male  35.0      0   \n",
       "\n",
       "   Parch            Ticket     Fare Cabin Embarked  \n",
       "0      0         A/5 21171   7.2500   NaN        S  \n",
       "1      0          PC 17599  71.2833   C85        C  \n",
       "2      0  STON/O2. 3101282   7.9250   NaN        S  \n",
       "3      0            113803  53.1000  C123        S  \n",
       "4      0            373450   8.0500   NaN        S  "
      ]
     },
     "execution_count": 4,
     "metadata": {},
     "output_type": "execute_result"
    }
   ],
   "source": [
    "df_train.head()"
   ]
  },
  {
   "cell_type": "code",
   "execution_count": 5,
   "id": "063a5c5c",
   "metadata": {
    "execution": {
     "iopub.execute_input": "2022-08-03T17:18:45.205806Z",
     "iopub.status.busy": "2022-08-03T17:18:45.205086Z",
     "iopub.status.idle": "2022-08-03T17:18:45.230647Z",
     "shell.execute_reply": "2022-08-03T17:18:45.229509Z"
    },
    "papermill": {
     "duration": 0.045623,
     "end_time": "2022-08-03T17:18:45.233102",
     "exception": false,
     "start_time": "2022-08-03T17:18:45.187479",
     "status": "completed"
    },
    "tags": []
   },
   "outputs": [
    {
     "name": "stdout",
     "output_type": "stream",
     "text": [
      "<class 'pandas.core.frame.DataFrame'>\n",
      "RangeIndex: 891 entries, 0 to 890\n",
      "Data columns (total 12 columns):\n",
      " #   Column       Non-Null Count  Dtype  \n",
      "---  ------       --------------  -----  \n",
      " 0   PassengerId  891 non-null    int64  \n",
      " 1   Survived     891 non-null    int64  \n",
      " 2   Pclass       891 non-null    int64  \n",
      " 3   Name         891 non-null    object \n",
      " 4   Sex          891 non-null    object \n",
      " 5   Age          714 non-null    float64\n",
      " 6   SibSp        891 non-null    int64  \n",
      " 7   Parch        891 non-null    int64  \n",
      " 8   Ticket       891 non-null    object \n",
      " 9   Fare         891 non-null    float64\n",
      " 10  Cabin        204 non-null    object \n",
      " 11  Embarked     889 non-null    object \n",
      "dtypes: float64(2), int64(5), object(5)\n",
      "memory usage: 83.7+ KB\n"
     ]
    }
   ],
   "source": [
    "df_train.info()"
   ]
  },
  {
   "cell_type": "code",
   "execution_count": 6,
   "id": "c953e908",
   "metadata": {
    "execution": {
     "iopub.execute_input": "2022-08-03T17:18:45.267966Z",
     "iopub.status.busy": "2022-08-03T17:18:45.267226Z",
     "iopub.status.idle": "2022-08-03T17:18:45.300885Z",
     "shell.execute_reply": "2022-08-03T17:18:45.299723Z"
    },
    "papermill": {
     "duration": 0.054024,
     "end_time": "2022-08-03T17:18:45.303497",
     "exception": false,
     "start_time": "2022-08-03T17:18:45.249473",
     "status": "completed"
    },
    "tags": []
   },
   "outputs": [
    {
     "data": {
      "text/html": [
       "<div>\n",
       "<style scoped>\n",
       "    .dataframe tbody tr th:only-of-type {\n",
       "        vertical-align: middle;\n",
       "    }\n",
       "\n",
       "    .dataframe tbody tr th {\n",
       "        vertical-align: top;\n",
       "    }\n",
       "\n",
       "    .dataframe thead th {\n",
       "        text-align: right;\n",
       "    }\n",
       "</style>\n",
       "<table border=\"1\" class=\"dataframe\">\n",
       "  <thead>\n",
       "    <tr style=\"text-align: right;\">\n",
       "      <th></th>\n",
       "      <th>PassengerId</th>\n",
       "      <th>Survived</th>\n",
       "      <th>Pclass</th>\n",
       "      <th>Age</th>\n",
       "      <th>SibSp</th>\n",
       "      <th>Parch</th>\n",
       "      <th>Fare</th>\n",
       "    </tr>\n",
       "  </thead>\n",
       "  <tbody>\n",
       "    <tr>\n",
       "      <th>count</th>\n",
       "      <td>891.000000</td>\n",
       "      <td>891.000000</td>\n",
       "      <td>891.000000</td>\n",
       "      <td>714.000000</td>\n",
       "      <td>891.000000</td>\n",
       "      <td>891.000000</td>\n",
       "      <td>891.000000</td>\n",
       "    </tr>\n",
       "    <tr>\n",
       "      <th>mean</th>\n",
       "      <td>446.000000</td>\n",
       "      <td>0.383838</td>\n",
       "      <td>2.308642</td>\n",
       "      <td>29.699118</td>\n",
       "      <td>0.523008</td>\n",
       "      <td>0.381594</td>\n",
       "      <td>32.204208</td>\n",
       "    </tr>\n",
       "    <tr>\n",
       "      <th>std</th>\n",
       "      <td>257.353842</td>\n",
       "      <td>0.486592</td>\n",
       "      <td>0.836071</td>\n",
       "      <td>14.526497</td>\n",
       "      <td>1.102743</td>\n",
       "      <td>0.806057</td>\n",
       "      <td>49.693429</td>\n",
       "    </tr>\n",
       "    <tr>\n",
       "      <th>min</th>\n",
       "      <td>1.000000</td>\n",
       "      <td>0.000000</td>\n",
       "      <td>1.000000</td>\n",
       "      <td>0.420000</td>\n",
       "      <td>0.000000</td>\n",
       "      <td>0.000000</td>\n",
       "      <td>0.000000</td>\n",
       "    </tr>\n",
       "    <tr>\n",
       "      <th>25%</th>\n",
       "      <td>223.500000</td>\n",
       "      <td>0.000000</td>\n",
       "      <td>2.000000</td>\n",
       "      <td>20.125000</td>\n",
       "      <td>0.000000</td>\n",
       "      <td>0.000000</td>\n",
       "      <td>7.910400</td>\n",
       "    </tr>\n",
       "    <tr>\n",
       "      <th>50%</th>\n",
       "      <td>446.000000</td>\n",
       "      <td>0.000000</td>\n",
       "      <td>3.000000</td>\n",
       "      <td>28.000000</td>\n",
       "      <td>0.000000</td>\n",
       "      <td>0.000000</td>\n",
       "      <td>14.454200</td>\n",
       "    </tr>\n",
       "    <tr>\n",
       "      <th>75%</th>\n",
       "      <td>668.500000</td>\n",
       "      <td>1.000000</td>\n",
       "      <td>3.000000</td>\n",
       "      <td>38.000000</td>\n",
       "      <td>1.000000</td>\n",
       "      <td>0.000000</td>\n",
       "      <td>31.000000</td>\n",
       "    </tr>\n",
       "    <tr>\n",
       "      <th>max</th>\n",
       "      <td>891.000000</td>\n",
       "      <td>1.000000</td>\n",
       "      <td>3.000000</td>\n",
       "      <td>80.000000</td>\n",
       "      <td>8.000000</td>\n",
       "      <td>6.000000</td>\n",
       "      <td>512.329200</td>\n",
       "    </tr>\n",
       "  </tbody>\n",
       "</table>\n",
       "</div>"
      ],
      "text/plain": [
       "       PassengerId    Survived      Pclass         Age       SibSp  \\\n",
       "count   891.000000  891.000000  891.000000  714.000000  891.000000   \n",
       "mean    446.000000    0.383838    2.308642   29.699118    0.523008   \n",
       "std     257.353842    0.486592    0.836071   14.526497    1.102743   \n",
       "min       1.000000    0.000000    1.000000    0.420000    0.000000   \n",
       "25%     223.500000    0.000000    2.000000   20.125000    0.000000   \n",
       "50%     446.000000    0.000000    3.000000   28.000000    0.000000   \n",
       "75%     668.500000    1.000000    3.000000   38.000000    1.000000   \n",
       "max     891.000000    1.000000    3.000000   80.000000    8.000000   \n",
       "\n",
       "            Parch        Fare  \n",
       "count  891.000000  891.000000  \n",
       "mean     0.381594   32.204208  \n",
       "std      0.806057   49.693429  \n",
       "min      0.000000    0.000000  \n",
       "25%      0.000000    7.910400  \n",
       "50%      0.000000   14.454200  \n",
       "75%      0.000000   31.000000  \n",
       "max      6.000000  512.329200  "
      ]
     },
     "execution_count": 6,
     "metadata": {},
     "output_type": "execute_result"
    }
   ],
   "source": [
    "df_train.describe()"
   ]
  },
  {
   "cell_type": "code",
   "execution_count": 7,
   "id": "4a80c9d9",
   "metadata": {
    "execution": {
     "iopub.execute_input": "2022-08-03T17:18:45.339264Z",
     "iopub.status.busy": "2022-08-03T17:18:45.338617Z",
     "iopub.status.idle": "2022-08-03T17:18:45.346028Z",
     "shell.execute_reply": "2022-08-03T17:18:45.345168Z"
    },
    "papermill": {
     "duration": 0.027348,
     "end_time": "2022-08-03T17:18:45.348011",
     "exception": false,
     "start_time": "2022-08-03T17:18:45.320663",
     "status": "completed"
    },
    "tags": []
   },
   "outputs": [
    {
     "data": {
      "text/plain": [
       "['PassengerId', 'Survived', 'Pclass', 'Age', 'SibSp', 'Parch', 'Fare']"
      ]
     },
     "execution_count": 7,
     "metadata": {},
     "output_type": "execute_result"
    }
   ],
   "source": [
    "num_feats = [feats for feats in df_train if df_train[feats].dtypes != 'O']\n",
    "num_feats"
   ]
  },
  {
   "cell_type": "code",
   "execution_count": 8,
   "id": "d59196a0",
   "metadata": {
    "execution": {
     "iopub.execute_input": "2022-08-03T17:18:45.383142Z",
     "iopub.status.busy": "2022-08-03T17:18:45.382681Z",
     "iopub.status.idle": "2022-08-03T17:18:57.893847Z",
     "shell.execute_reply": "2022-08-03T17:18:57.892695Z"
    },
    "papermill": {
     "duration": 12.5321,
     "end_time": "2022-08-03T17:18:57.896670",
     "exception": false,
     "start_time": "2022-08-03T17:18:45.364570",
     "status": "completed"
    },
    "tags": []
   },
   "outputs": [
    {
     "data": {
      "image/png": "[encoded data removed]",
      "text/plain": [
       "<Figure size 432x288 with 1 Axes>"
      ]
     },
     "metadata": {
      "needs_background": "light"
     },
     "output_type": "display_data"
    },
    {
     "data": {
      "image/png": "[encoded data removed]",
      "text/plain": [
       "<Figure size 432x288 with 1 Axes>"
      ]
     },
     "metadata": {
      "needs_background": "light"
     },
     "output_type": "display_data"
    },
    {
     "data": {
      "image/png": "[encoded data removed]",
      "text/plain": [
       "<Figure size 432x288 with 1 Axes>"
      ]
     },
     "metadata": {
      "needs_background": "light"
     },
     "output_type": "display_data"
    },
    {
     "data": {
      "image/png": "[encoded data removed]",
      "text/plain": [
       "<Figure size 432x288 with 1 Axes>"
      ]
     },
     "metadata": {
      "needs_background": "light"
     },
     "output_type": "display_data"
    },
    {
     "data": {
      "image/png": "[encoded data removed]",
      "text/plain": [
       "<Figure size 432x288 with 1 Axes>"
      ]
     },
     "metadata": {
      "needs_background": "light"
     },
     "output_type": "display_data"
    },
    {
     "data": {
      "image/png": "[encoded data removed]",
      "text/plain": [
       "<Figure size 432x288 with 1 Axes>"
      ]
     },
     "metadata": {
      "needs_background": "light"
     },
     "output_type": "display_data"
    },
    {
     "data": {
      "image/png": "[encoded data removed]",
      "text/plain": [
       "<Figure size 432x288 with 1 Axes>"
      ]
     },
     "metadata": {
      "needs_background": "light"
     },
     "output_type": "display_data"
    }
   ],
   "source": [
    "for feature in num_feats:\n",
    "    df_train.groupby(feature)[\"Survived\"].mean().plot.bar()\n",
    "    plt.show()\n",
    "    "
   ]
  },
  {
   "cell_type": "code",
   "execution_count": 9,
   "id": "351fd9da",
   "metadata": {
    "execution": {
     "iopub.execute_input": "2022-08-03T17:18:57.936922Z",
     "iopub.status.busy": "2022-08-03T17:18:57.936509Z",
     "iopub.status.idle": "2022-08-03T17:18:57.942890Z",
     "shell.execute_reply": "2022-08-03T17:18:57.942104Z"
    },
    "papermill": {
     "duration": 0.028975,
     "end_time": "2022-08-03T17:18:57.944811",
     "exception": false,
     "start_time": "2022-08-03T17:18:57.915836",
     "status": "completed"
    },
    "tags": []
   },
   "outputs": [
    {
     "data": {
      "text/plain": [
       "['Name', 'Sex', 'Ticket', 'Cabin', 'Embarked']"
      ]
     },
     "execution_count": 9,
     "metadata": {},
     "output_type": "execute_result"
    }
   ],
   "source": [
    "cat_feats = [feat for feat in df_train if feat not in num_feats]\n",
    "cat_feats"
   ]
  },
  {
   "cell_type": "code",
   "execution_count": 10,
   "id": "ecf046eb",
   "metadata": {
    "execution": {
     "iopub.execute_input": "2022-08-03T17:18:57.984306Z",
     "iopub.status.busy": "2022-08-03T17:18:57.983560Z",
     "iopub.status.idle": "2022-08-03T17:19:22.279621Z",
     "shell.execute_reply": "2022-08-03T17:19:22.278830Z"
    },
    "papermill": {
     "duration": 24.318446,
     "end_time": "2022-08-03T17:19:22.281811",
     "exception": false,
     "start_time": "2022-08-03T17:18:57.963365",
     "status": "completed"
    },
    "tags": []
   },
   "outputs": [
    {
     "data": {
      "image/png": "[encoded data removed]",
      "text/plain": [
       "<Figure size 432x288 with 1 Axes>"
      ]
     },
     "metadata": {
      "needs_background": "light"
     },
     "output_type": "display_data"
    },
    {
     "data": {
      "image/png": "[encoded data removed]",
      "text/plain": [
       "<Figure size 432x288 with 1 Axes>"
      ]
     },
     "metadata": {
      "needs_background": "light"
     },
     "output_type": "display_data"
    },
    {
     "data": {
      "image/png": "[encoded data removed]",
      "text/plain": [
       "<Figure size 432x288 with 1 Axes>"
      ]
     },
     "metadata": {
      "needs_background": "light"
     },
     "output_type": "display_data"
    },
    {
     "data": {
      "image/png": "[encoded data removed]",
      "text/plain": [
       "<Figure size 432x288 with 1 Axes>"
      ]
     },
     "metadata": {
      "needs_background": "light"
     },
     "output_type": "display_data"
    },
    {
     "data": {
      "image/png": "[encoded data removed]",
      "text/plain": [
       "<Figure size 432x288 with 1 Axes>"
      ]
     },
     "metadata": {
      "needs_background": "light"
     },
     "output_type": "display_data"
    }
   ],
   "source": [
    "for feature in cat_feats:\n",
    "    df_train.groupby(feature)[\"Survived\"].mean().plot.bar()\n",
    "    plt.show()"
   ]
  },
  {
   "cell_type": "code",
   "execution_count": 11,
   "id": "cbc6f402",
   "metadata": {
    "execution": {
     "iopub.execute_input": "2022-08-03T17:19:22.327390Z",
     "iopub.status.busy": "2022-08-03T17:19:22.326576Z",
     "iopub.status.idle": "2022-08-03T17:19:22.800660Z",
     "shell.execute_reply": "2022-08-03T17:19:22.799391Z"
    },
    "papermill": {
     "duration": 0.499301,
     "end_time": "2022-08-03T17:19:22.803242",
     "exception": false,
     "start_time": "2022-08-03T17:19:22.303941",
     "status": "completed"
    },
    "tags": []
   },
   "outputs": [
    {
     "data": {
      "text/plain": [
       "<AxesSubplot:>"
      ]
     },
     "execution_count": 11,
     "metadata": {},
     "output_type": "execute_result"
    },
    {
     "data": {
      "image/png": "[encoded data removed]",
      "text/plain": [
       "<Figure size 432x288 with 2 Axes>"
      ]
     },
     "metadata": {
      "needs_background": "light"
     },
     "output_type": "display_data"
    }
   ],
   "source": [
    "sns.heatmap(df_train.corr(),cmap=\"YlGnBu\",annot=True)"
   ]
  },
  {
   "cell_type": "code",
   "execution_count": 12,
   "id": "dc3c9c57",
   "metadata": {
    "execution": {
     "iopub.execute_input": "2022-08-03T17:19:22.850441Z",
     "iopub.status.busy": "2022-08-03T17:19:22.849668Z",
     "iopub.status.idle": "2022-08-03T17:19:22.858098Z",
     "shell.execute_reply": "2022-08-03T17:19:22.856874Z"
    },
    "papermill": {
     "duration": 0.034698,
     "end_time": "2022-08-03T17:19:22.860509",
     "exception": false,
     "start_time": "2022-08-03T17:19:22.825811",
     "status": "completed"
    },
    "tags": []
   },
   "outputs": [
    {
     "data": {
      "text/plain": [
       "687"
      ]
     },
     "execution_count": 12,
     "metadata": {},
     "output_type": "execute_result"
    }
   ],
   "source": [
    "df_train[\"Cabin\"].isnull().sum()"
   ]
  },
  {
   "cell_type": "code",
   "execution_count": 13,
   "id": "cbc535c8",
   "metadata": {
    "execution": {
     "iopub.execute_input": "2022-08-03T17:19:22.908073Z",
     "iopub.status.busy": "2022-08-03T17:19:22.907371Z",
     "iopub.status.idle": "2022-08-03T17:19:22.922855Z",
     "shell.execute_reply": "2022-08-03T17:19:22.922096Z"
    },
    "papermill": {
     "duration": 0.041509,
     "end_time": "2022-08-03T17:19:22.924777",
     "exception": false,
     "start_time": "2022-08-03T17:19:22.883268",
     "status": "completed"
    },
    "tags": []
   },
   "outputs": [
    {
     "data": {
      "text/html": [
       "<div>\n",
       "<style scoped>\n",
       "    .dataframe tbody tr th:only-of-type {\n",
       "        vertical-align: middle;\n",
       "    }\n",
       "\n",
       "    .dataframe tbody tr th {\n",
       "        vertical-align: top;\n",
       "    }\n",
       "\n",
       "    .dataframe thead th {\n",
       "        text-align: right;\n",
       "    }\n",
       "</style>\n",
       "<table border=\"1\" class=\"dataframe\">\n",
       "  <thead>\n",
       "    <tr style=\"text-align: right;\">\n",
       "      <th></th>\n",
       "      <th>PassengerId</th>\n",
       "      <th>Survived</th>\n",
       "      <th>Pclass</th>\n",
       "      <th>Name</th>\n",
       "      <th>Sex</th>\n",
       "      <th>Age</th>\n",
       "      <th>SibSp</th>\n",
       "      <th>Parch</th>\n",
       "      <th>Ticket</th>\n",
       "      <th>Fare</th>\n",
       "      <th>Cabin</th>\n",
       "      <th>Embarked</th>\n",
       "    </tr>\n",
       "  </thead>\n",
       "  <tbody>\n",
       "    <tr>\n",
       "      <th>0</th>\n",
       "      <td>1</td>\n",
       "      <td>0</td>\n",
       "      <td>3</td>\n",
       "      <td>Braund, Mr. Owen Harris</td>\n",
       "      <td>male</td>\n",
       "      <td>22.0</td>\n",
       "      <td>1</td>\n",
       "      <td>0</td>\n",
       "      <td>A/5 21171</td>\n",
       "      <td>7.2500</td>\n",
       "      <td>NaN</td>\n",
       "      <td>S</td>\n",
       "    </tr>\n",
       "    <tr>\n",
       "      <th>1</th>\n",
       "      <td>2</td>\n",
       "      <td>1</td>\n",
       "      <td>1</td>\n",
       "      <td>Cumings, Mrs. John Bradley (Florence Briggs Th...</td>\n",
       "      <td>female</td>\n",
       "      <td>38.0</td>\n",
       "      <td>1</td>\n",
       "      <td>0</td>\n",
       "      <td>PC 17599</td>\n",
       "      <td>71.2833</td>\n",
       "      <td>C85</td>\n",
       "      <td>C</td>\n",
       "    </tr>\n",
       "    <tr>\n",
       "      <th>2</th>\n",
       "      <td>3</td>\n",
       "      <td>1</td>\n",
       "      <td>3</td>\n",
       "      <td>Heikkinen, Miss. Laina</td>\n",
       "      <td>female</td>\n",
       "      <td>26.0</td>\n",
       "      <td>0</td>\n",
       "      <td>0</td>\n",
       "      <td>STON/O2. 3101282</td>\n",
       "      <td>7.9250</td>\n",
       "      <td>NaN</td>\n",
       "      <td>S</td>\n",
       "    </tr>\n",
       "    <tr>\n",
       "      <th>3</th>\n",
       "      <td>4</td>\n",
       "      <td>1</td>\n",
       "      <td>1</td>\n",
       "      <td>Futrelle, Mrs. Jacques Heath (Lily May Peel)</td>\n",
       "      <td>female</td>\n",
       "      <td>35.0</td>\n",
       "      <td>1</td>\n",
       "      <td>0</td>\n",
       "      <td>113803</td>\n",
       "      <td>53.1000</td>\n",
       "      <td>C123</td>\n",
       "      <td>S</td>\n",
       "    </tr>\n",
       "    <tr>\n",
       "      <th>4</th>\n",
       "      <td>5</td>\n",
       "      <td>0</td>\n",
       "      <td>3</td>\n",
       "      <td>Allen, Mr. William Henry</td>\n",
       "      <td>male</td>\n",
       "      <td>35.0</td>\n",
       "      <td>0</td>\n",
       "      <td>0</td>\n",
       "      <td>373450</td>\n",
       "      <td>8.0500</td>\n",
       "      <td>NaN</td>\n",
       "      <td>S</td>\n",
       "    </tr>\n",
       "  </tbody>\n",
       "</table>\n",
       "</div>"
      ],
      "text/plain": [
       "   PassengerId  Survived  Pclass  \\\n",
       "0            1         0       3   \n",
       "1            2         1       1   \n",
       "2            3         1       3   \n",
       "3            4         1       1   \n",
       "4            5         0       3   \n",
       "\n",
       "                                                Name     Sex   Age  SibSp  \\\n",
       "0                            Braund, Mr. Owen Harris    male  22.0      1   \n",
       "1  Cumings, Mrs. John Bradley (Florence Briggs Th...  female  38.0      1   \n",
       "2                             Heikkinen, Miss. Laina  female  26.0      0   \n",
       "3       Futrelle, Mrs. Jacques Heath (Lily May Peel)  female  35.0      1   \n",
       "4                           Allen, Mr. William Henry    male  35.0      0   \n",
       "\n",
       "   Parch            Ticket     Fare Cabin Embarked  \n",
       "0      0         A/5 21171   7.2500   NaN        S  \n",
       "1      0          PC 17599  71.2833   C85        C  \n",
       "2      0  STON/O2. 3101282   7.9250   NaN        S  \n",
       "3      0            113803  53.1000  C123        S  \n",
       "4      0            373450   8.0500   NaN        S  "
      ]
     },
     "execution_count": 13,
     "metadata": {},
     "output_type": "execute_result"
    }
   ],
   "source": [
    "df_train.head()"
   ]
  },
  {
   "cell_type": "code",
   "execution_count": 14,
   "id": "54a370f7",
   "metadata": {
    "execution": {
     "iopub.execute_input": "2022-08-03T17:19:22.972202Z",
     "iopub.status.busy": "2022-08-03T17:19:22.971479Z",
     "iopub.status.idle": "2022-08-03T17:19:22.976979Z",
     "shell.execute_reply": "2022-08-03T17:19:22.976194Z"
    },
    "papermill": {
     "duration": 0.031265,
     "end_time": "2022-08-03T17:19:22.979016",
     "exception": false,
     "start_time": "2022-08-03T17:19:22.947751",
     "status": "completed"
    },
    "tags": []
   },
   "outputs": [],
   "source": [
    "df_train.drop(['Cabin'],axis=1,inplace=True)"
   ]
  },
  {
   "cell_type": "code",
   "execution_count": 15,
   "id": "74d3b38e",
   "metadata": {
    "execution": {
     "iopub.execute_input": "2022-08-03T17:19:23.025678Z",
     "iopub.status.busy": "2022-08-03T17:19:23.024986Z",
     "iopub.status.idle": "2022-08-03T17:19:23.033246Z",
     "shell.execute_reply": "2022-08-03T17:19:23.032503Z"
    },
    "papermill": {
     "duration": 0.03377,
     "end_time": "2022-08-03T17:19:23.035195",
     "exception": false,
     "start_time": "2022-08-03T17:19:23.001425",
     "status": "completed"
    },
    "tags": []
   },
   "outputs": [
    {
     "data": {
      "text/plain": [
       "PassengerId      0\n",
       "Survived         0\n",
       "Pclass           0\n",
       "Name             0\n",
       "Sex              0\n",
       "Age            177\n",
       "SibSp            0\n",
       "Parch            0\n",
       "Ticket           0\n",
       "Fare             0\n",
       "Embarked         2\n",
       "dtype: int64"
      ]
     },
     "execution_count": 15,
     "metadata": {},
     "output_type": "execute_result"
    }
   ],
   "source": [
    "df_train.isnull().sum()\n",
    "# Age has highest no. of missing values ,for now we'll fill NA with 500\n",
    "# We will estimate the NA values only after calculating the MI scores\n",
    "# NA values of 'Embarked' column can be filled it's median"
   ]
  },
  {
   "cell_type": "code",
   "execution_count": 16,
   "id": "ce68171f",
   "metadata": {
    "execution": {
     "iopub.execute_input": "2022-08-03T17:19:23.081665Z",
     "iopub.status.busy": "2022-08-03T17:19:23.080884Z",
     "iopub.status.idle": "2022-08-03T17:19:23.085873Z",
     "shell.execute_reply": "2022-08-03T17:19:23.085150Z"
    },
    "papermill": {
     "duration": 0.030386,
     "end_time": "2022-08-03T17:19:23.087758",
     "exception": false,
     "start_time": "2022-08-03T17:19:23.057372",
     "status": "completed"
    },
    "tags": []
   },
   "outputs": [],
   "source": [
    "df_train['Age'].fillna(500,inplace=True)"
   ]
  },
  {
   "cell_type": "code",
   "execution_count": 17,
   "id": "152b4ffe",
   "metadata": {
    "execution": {
     "iopub.execute_input": "2022-08-03T17:19:23.134277Z",
     "iopub.status.busy": "2022-08-03T17:19:23.133584Z",
     "iopub.status.idle": "2022-08-03T17:19:23.140159Z",
     "shell.execute_reply": "2022-08-03T17:19:23.139275Z"
    },
    "papermill": {
     "duration": 0.032114,
     "end_time": "2022-08-03T17:19:23.142152",
     "exception": false,
     "start_time": "2022-08-03T17:19:23.110038",
     "status": "completed"
    },
    "tags": []
   },
   "outputs": [
    {
     "data": {
      "text/plain": [
       "0"
      ]
     },
     "execution_count": 17,
     "metadata": {},
     "output_type": "execute_result"
    }
   ],
   "source": [
    "df_train.Age.isnull().sum()"
   ]
  },
  {
   "cell_type": "code",
   "execution_count": 18,
   "id": "b9eef17f",
   "metadata": {
    "execution": {
     "iopub.execute_input": "2022-08-03T17:19:23.189010Z",
     "iopub.status.busy": "2022-08-03T17:19:23.188311Z",
     "iopub.status.idle": "2022-08-03T17:19:23.194411Z",
     "shell.execute_reply": "2022-08-03T17:19:23.193443Z"
    },
    "papermill": {
     "duration": 0.032043,
     "end_time": "2022-08-03T17:19:23.196526",
     "exception": false,
     "start_time": "2022-08-03T17:19:23.164483",
     "status": "completed"
    },
    "tags": []
   },
   "outputs": [
    {
     "data": {
      "text/plain": [
       "['Name', 'Sex', 'Ticket', 'Embarked']"
      ]
     },
     "execution_count": 18,
     "metadata": {},
     "output_type": "execute_result"
    }
   ],
   "source": [
    "new_cat_feats = [feat for feat in df_train if feat not in num_feats]\n",
    "new_cat_feats"
   ]
  },
  {
   "cell_type": "code",
   "execution_count": 19,
   "id": "ed58a3bd",
   "metadata": {
    "execution": {
     "iopub.execute_input": "2022-08-03T17:19:23.244127Z",
     "iopub.status.busy": "2022-08-03T17:19:23.243381Z",
     "iopub.status.idle": "2022-08-03T17:19:23.249971Z",
     "shell.execute_reply": "2022-08-03T17:19:23.249170Z"
    },
    "papermill": {
     "duration": 0.032797,
     "end_time": "2022-08-03T17:19:23.252035",
     "exception": false,
     "start_time": "2022-08-03T17:19:23.219238",
     "status": "completed"
    },
    "tags": []
   },
   "outputs": [],
   "source": [
    "X = df_train.copy()\n",
    "X.drop(new_cat_feats,axis=1,inplace=True)\n",
    "y = X.pop(\"Survived\")"
   ]
  },
  {
   "cell_type": "code",
   "execution_count": 20,
   "id": "735e4cb9",
   "metadata": {
    "execution": {
     "iopub.execute_input": "2022-08-03T17:19:23.299325Z",
     "iopub.status.busy": "2022-08-03T17:19:23.298595Z",
     "iopub.status.idle": "2022-08-03T17:19:23.310360Z",
     "shell.execute_reply": "2022-08-03T17:19:23.309377Z"
    },
    "papermill": {
     "duration": 0.037635,
     "end_time": "2022-08-03T17:19:23.312377",
     "exception": false,
     "start_time": "2022-08-03T17:19:23.274742",
     "status": "completed"
    },
    "tags": []
   },
   "outputs": [
    {
     "data": {
      "text/html": [
       "<div>\n",
       "<style scoped>\n",
       "    .dataframe tbody tr th:only-of-type {\n",
       "        vertical-align: middle;\n",
       "    }\n",
       "\n",
       "    .dataframe tbody tr th {\n",
       "        vertical-align: top;\n",
       "    }\n",
       "\n",
       "    .dataframe thead th {\n",
       "        text-align: right;\n",
       "    }\n",
       "</style>\n",
       "<table border=\"1\" class=\"dataframe\">\n",
       "  <thead>\n",
       "    <tr style=\"text-align: right;\">\n",
       "      <th></th>\n",
       "      <th>PassengerId</th>\n",
       "      <th>Pclass</th>\n",
       "      <th>Age</th>\n",
       "      <th>SibSp</th>\n",
       "      <th>Parch</th>\n",
       "      <th>Fare</th>\n",
       "    </tr>\n",
       "  </thead>\n",
       "  <tbody>\n",
       "    <tr>\n",
       "      <th>0</th>\n",
       "      <td>1</td>\n",
       "      <td>3</td>\n",
       "      <td>22.0</td>\n",
       "      <td>1</td>\n",
       "      <td>0</td>\n",
       "      <td>7.2500</td>\n",
       "    </tr>\n",
       "    <tr>\n",
       "      <th>1</th>\n",
       "      <td>2</td>\n",
       "      <td>1</td>\n",
       "      <td>38.0</td>\n",
       "      <td>1</td>\n",
       "      <td>0</td>\n",
       "      <td>71.2833</td>\n",
       "    </tr>\n",
       "    <tr>\n",
       "      <th>2</th>\n",
       "      <td>3</td>\n",
       "      <td>3</td>\n",
       "      <td>26.0</td>\n",
       "      <td>0</td>\n",
       "      <td>0</td>\n",
       "      <td>7.9250</td>\n",
       "    </tr>\n",
       "    <tr>\n",
       "      <th>3</th>\n",
       "      <td>4</td>\n",
       "      <td>1</td>\n",
       "      <td>35.0</td>\n",
       "      <td>1</td>\n",
       "      <td>0</td>\n",
       "      <td>53.1000</td>\n",
       "    </tr>\n",
       "    <tr>\n",
       "      <th>4</th>\n",
       "      <td>5</td>\n",
       "      <td>3</td>\n",
       "      <td>35.0</td>\n",
       "      <td>0</td>\n",
       "      <td>0</td>\n",
       "      <td>8.0500</td>\n",
       "    </tr>\n",
       "  </tbody>\n",
       "</table>\n",
       "</div>"
      ],
      "text/plain": [
       "   PassengerId  Pclass   Age  SibSp  Parch     Fare\n",
       "0            1       3  22.0      1      0   7.2500\n",
       "1            2       1  38.0      1      0  71.2833\n",
       "2            3       3  26.0      0      0   7.9250\n",
       "3            4       1  35.0      1      0  53.1000\n",
       "4            5       3  35.0      0      0   8.0500"
      ]
     },
     "execution_count": 20,
     "metadata": {},
     "output_type": "execute_result"
    }
   ],
   "source": [
    "X.head()"
   ]
  },
  {
   "cell_type": "code",
   "execution_count": 21,
   "id": "f8d268b3",
   "metadata": {
    "execution": {
     "iopub.execute_input": "2022-08-03T17:19:23.360300Z",
     "iopub.status.busy": "2022-08-03T17:19:23.359716Z",
     "iopub.status.idle": "2022-08-03T17:19:23.367849Z",
     "shell.execute_reply": "2022-08-03T17:19:23.366514Z"
    },
    "papermill": {
     "duration": 0.03476,
     "end_time": "2022-08-03T17:19:23.370078",
     "exception": false,
     "start_time": "2022-08-03T17:19:23.335318",
     "status": "completed"
    },
    "tags": []
   },
   "outputs": [],
   "source": [
    "cols = X.columns\n",
    "for col in cols:\n",
    "    X[col] = X[col].astype(float)"
   ]
  },
  {
   "cell_type": "code",
   "execution_count": 22,
   "id": "5318484c",
   "metadata": {
    "execution": {
     "iopub.execute_input": "2022-08-03T17:19:23.417836Z",
     "iopub.status.busy": "2022-08-03T17:19:23.416856Z",
     "iopub.status.idle": "2022-08-03T17:19:23.430007Z",
     "shell.execute_reply": "2022-08-03T17:19:23.428774Z"
    },
    "papermill": {
     "duration": 0.040456,
     "end_time": "2022-08-03T17:19:23.433274",
     "exception": false,
     "start_time": "2022-08-03T17:19:23.392818",
     "status": "completed"
    },
    "tags": []
   },
   "outputs": [
    {
     "name": "stdout",
     "output_type": "stream",
     "text": [
      "<class 'pandas.core.frame.DataFrame'>\n",
      "RangeIndex: 891 entries, 0 to 890\n",
      "Data columns (total 6 columns):\n",
      " #   Column       Non-Null Count  Dtype  \n",
      "---  ------       --------------  -----  \n",
      " 0   PassengerId  891 non-null    float64\n",
      " 1   Pclass       891 non-null    float64\n",
      " 2   Age          891 non-null    float64\n",
      " 3   SibSp        891 non-null    float64\n",
      " 4   Parch        891 non-null    float64\n",
      " 5   Fare         891 non-null    float64\n",
      "dtypes: float64(6)\n",
      "memory usage: 41.9 KB\n"
     ]
    }
   ],
   "source": [
    "X.info()"
   ]
  },
  {
   "cell_type": "code",
   "execution_count": 23,
   "id": "d16ad869",
   "metadata": {
    "execution": {
     "iopub.execute_input": "2022-08-03T17:19:23.482862Z",
     "iopub.status.busy": "2022-08-03T17:19:23.482103Z",
     "iopub.status.idle": "2022-08-03T17:19:23.858262Z",
     "shell.execute_reply": "2022-08-03T17:19:23.856835Z"
    },
    "papermill": {
     "duration": 0.403426,
     "end_time": "2022-08-03T17:19:23.861144",
     "exception": false,
     "start_time": "2022-08-03T17:19:23.457718",
     "status": "completed"
    },
    "tags": []
   },
   "outputs": [
    {
     "data": {
      "text/plain": [
       "Fare           0.163770\n",
       "SibSp          0.037866\n",
       "Parch          0.033039\n",
       "Pclass         0.027747\n",
       "PassengerId    0.024303\n",
       "Age            0.008874\n",
       "Name: MI Scores, dtype: float64"
      ]
     },
     "execution_count": 23,
     "metadata": {},
     "output_type": "execute_result"
    }
   ],
   "source": [
    "from sklearn.feature_selection import mutual_info_regression\n",
    "mi_scores = mutual_info_regression(X, y)\n",
    "mi_scores = pd.Series(mi_scores, name=\"MI Scores\", index=X.columns)\n",
    "mi_scores = mi_scores.sort_values(ascending=False)\n",
    "mi_scores"
   ]
  },
  {
   "cell_type": "code",
   "execution_count": 24,
   "id": "487c3fd0",
   "metadata": {
    "execution": {
     "iopub.execute_input": "2022-08-03T17:19:23.911321Z",
     "iopub.status.busy": "2022-08-03T17:19:23.910229Z",
     "iopub.status.idle": "2022-08-03T17:19:23.915157Z",
     "shell.execute_reply": "2022-08-03T17:19:23.914228Z"
    },
    "papermill": {
     "duration": 0.032419,
     "end_time": "2022-08-03T17:19:23.917397",
     "exception": false,
     "start_time": "2022-08-03T17:19:23.884978",
     "status": "completed"
    },
    "tags": []
   },
   "outputs": [],
   "source": [
    "# First we focus on the features with top 3 scores, namely : 'Fare','Pclass','Age'\n",
    "#   1.For age we'll first impute NA values from mean of age based on\n",
    "#     its the column it is having maximum correlation with.\n",
    "#   2.Convert age feature into discrete bands(0 - 10, 11 - 20 ,...71-80)\n",
    "# We'll create a new feature from Parch and SibSp : Family_size\n",
    "# Extract title from name feature"
   ]
  },
  {
   "cell_type": "code",
   "execution_count": 25,
   "id": "629853a4",
   "metadata": {
    "execution": {
     "iopub.execute_input": "2022-08-03T17:19:23.965823Z",
     "iopub.status.busy": "2022-08-03T17:19:23.965063Z",
     "iopub.status.idle": "2022-08-03T17:19:24.186732Z",
     "shell.execute_reply": "2022-08-03T17:19:24.185491Z"
    },
    "papermill": {
     "duration": 0.248583,
     "end_time": "2022-08-03T17:19:24.189139",
     "exception": false,
     "start_time": "2022-08-03T17:19:23.940556",
     "status": "completed"
    },
    "tags": []
   },
   "outputs": [
    {
     "data": {
      "image/png": "[encoded data removed]",
      "text/plain": [
       "<Figure size 800x500 with 1 Axes>"
      ]
     },
     "metadata": {
      "needs_background": "light"
     },
     "output_type": "display_data"
    }
   ],
   "source": [
    "def plot_mi_scores(scores):\n",
    "    scores = scores.sort_values(ascending=True)\n",
    "    width = np.arange(len(scores))\n",
    "    ticks = list(scores.index)\n",
    "    plt.barh(width, scores)\n",
    "    plt.yticks(width, ticks)\n",
    "    plt.title(\"Mutual Information Scores\")\n",
    "\n",
    "\n",
    "plt.figure(dpi=100, figsize=(8, 5))\n",
    "plot_mi_scores(mi_scores)"
   ]
  },
  {
   "cell_type": "code",
   "execution_count": 26,
   "id": "85b5f6cd",
   "metadata": {
    "execution": {
     "iopub.execute_input": "2022-08-03T17:19:24.239134Z",
     "iopub.status.busy": "2022-08-03T17:19:24.238028Z",
     "iopub.status.idle": "2022-08-03T17:19:24.553890Z",
     "shell.execute_reply": "2022-08-03T17:19:24.553038Z"
    },
    "papermill": {
     "duration": 0.342894,
     "end_time": "2022-08-03T17:19:24.556019",
     "exception": false,
     "start_time": "2022-08-03T17:19:24.213125",
     "status": "completed"
    },
    "tags": []
   },
   "outputs": [
    {
     "data": {
      "text/plain": [
       "<AxesSubplot:xlabel='Fare', ylabel='Count'>"
      ]
     },
     "execution_count": 26,
     "metadata": {},
     "output_type": "execute_result"
    },
    {
     "data": {
      "image/png": "[encoded data removed]",
      "text/plain": [
       "<Figure size 432x288 with 1 Axes>"
      ]
     },
     "metadata": {
      "needs_background": "light"
     },
     "output_type": "display_data"
    }
   ],
   "source": [
    "sns.histplot(data=df_train,x=\"Fare\",hue=\"Survived\",binwidth=50,kde=True)"
   ]
  },
  {
   "cell_type": "code",
   "execution_count": 27,
   "id": "f86ef46e",
   "metadata": {
    "execution": {
     "iopub.execute_input": "2022-08-03T17:19:24.606810Z",
     "iopub.status.busy": "2022-08-03T17:19:24.605822Z",
     "iopub.status.idle": "2022-08-03T17:19:25.157741Z",
     "shell.execute_reply": "2022-08-03T17:19:25.156981Z"
    },
    "papermill": {
     "duration": 0.579617,
     "end_time": "2022-08-03T17:19:25.159787",
     "exception": false,
     "start_time": "2022-08-03T17:19:24.580170",
     "status": "completed"
    },
    "tags": []
   },
   "outputs": [
    {
     "data": {
      "text/plain": [
       "<AxesSubplot:xlabel='Age', ylabel='Count'>"
      ]
     },
     "execution_count": 27,
     "metadata": {},
     "output_type": "execute_result"
    },
    {
     "data": {
      "image/png": "[encoded data removed]",
      "text/plain": [
       "<Figure size 432x288 with 1 Axes>"
      ]
     },
     "metadata": {
      "needs_background": "light"
     },
     "output_type": "display_data"
    }
   ],
   "source": [
    "sns.histplot(data=df_train,x=\"Age\",hue=\"Survived\",kde=True)"
   ]
  },
  {
   "cell_type": "code",
   "execution_count": 28,
   "id": "26b65dbf",
   "metadata": {
    "execution": {
     "iopub.execute_input": "2022-08-03T17:19:25.210849Z",
     "iopub.status.busy": "2022-08-03T17:19:25.210196Z",
     "iopub.status.idle": "2022-08-03T17:19:25.224214Z",
     "shell.execute_reply": "2022-08-03T17:19:25.223407Z"
    },
    "papermill": {
     "duration": 0.041819,
     "end_time": "2022-08-03T17:19:25.226195",
     "exception": false,
     "start_time": "2022-08-03T17:19:25.184376",
     "status": "completed"
    },
    "tags": []
   },
   "outputs": [
    {
     "data": {
      "text/html": [
       "<div>\n",
       "<style scoped>\n",
       "    .dataframe tbody tr th:only-of-type {\n",
       "        vertical-align: middle;\n",
       "    }\n",
       "\n",
       "    .dataframe tbody tr th {\n",
       "        vertical-align: top;\n",
       "    }\n",
       "\n",
       "    .dataframe thead th {\n",
       "        text-align: right;\n",
       "    }\n",
       "</style>\n",
       "<table border=\"1\" class=\"dataframe\">\n",
       "  <thead>\n",
       "    <tr style=\"text-align: right;\">\n",
       "      <th></th>\n",
       "      <th>PassengerId</th>\n",
       "      <th>Survived</th>\n",
       "      <th>Pclass</th>\n",
       "      <th>Age</th>\n",
       "      <th>SibSp</th>\n",
       "      <th>Parch</th>\n",
       "      <th>Fare</th>\n",
       "    </tr>\n",
       "  </thead>\n",
       "  <tbody>\n",
       "    <tr>\n",
       "      <th>PassengerId</th>\n",
       "      <td>1.000000</td>\n",
       "      <td>-0.005007</td>\n",
       "      <td>-0.035144</td>\n",
       "      <td>-0.017825</td>\n",
       "      <td>-0.057527</td>\n",
       "      <td>-0.001652</td>\n",
       "      <td>0.012658</td>\n",
       "    </tr>\n",
       "    <tr>\n",
       "      <th>Survived</th>\n",
       "      <td>-0.005007</td>\n",
       "      <td>1.000000</td>\n",
       "      <td>-0.338481</td>\n",
       "      <td>-0.096799</td>\n",
       "      <td>-0.035322</td>\n",
       "      <td>0.081629</td>\n",
       "      <td>0.257307</td>\n",
       "    </tr>\n",
       "    <tr>\n",
       "      <th>Pclass</th>\n",
       "      <td>-0.035144</td>\n",
       "      <td>-0.338481</td>\n",
       "      <td>1.000000</td>\n",
       "      <td>0.149629</td>\n",
       "      <td>0.083081</td>\n",
       "      <td>0.018443</td>\n",
       "      <td>-0.549500</td>\n",
       "    </tr>\n",
       "    <tr>\n",
       "      <th>Age</th>\n",
       "      <td>-0.017825</td>\n",
       "      <td>-0.096799</td>\n",
       "      <td>0.149629</td>\n",
       "      <td>1.000000</td>\n",
       "      <td>0.002841</td>\n",
       "      <td>-0.136187</td>\n",
       "      <td>-0.094140</td>\n",
       "    </tr>\n",
       "    <tr>\n",
       "      <th>SibSp</th>\n",
       "      <td>-0.057527</td>\n",
       "      <td>-0.035322</td>\n",
       "      <td>0.083081</td>\n",
       "      <td>0.002841</td>\n",
       "      <td>1.000000</td>\n",
       "      <td>0.414838</td>\n",
       "      <td>0.159651</td>\n",
       "    </tr>\n",
       "    <tr>\n",
       "      <th>Parch</th>\n",
       "      <td>-0.001652</td>\n",
       "      <td>0.081629</td>\n",
       "      <td>0.018443</td>\n",
       "      <td>-0.136187</td>\n",
       "      <td>0.414838</td>\n",
       "      <td>1.000000</td>\n",
       "      <td>0.216225</td>\n",
       "    </tr>\n",
       "    <tr>\n",
       "      <th>Fare</th>\n",
       "      <td>0.012658</td>\n",
       "      <td>0.257307</td>\n",
       "      <td>-0.549500</td>\n",
       "      <td>-0.094140</td>\n",
       "      <td>0.159651</td>\n",
       "      <td>0.216225</td>\n",
       "      <td>1.000000</td>\n",
       "    </tr>\n",
       "  </tbody>\n",
       "</table>\n",
       "</div>"
      ],
      "text/plain": [
       "             PassengerId  Survived    Pclass       Age     SibSp     Parch  \\\n",
       "PassengerId     1.000000 -0.005007 -0.035144 -0.017825 -0.057527 -0.001652   \n",
       "Survived       -0.005007  1.000000 -0.338481 -0.096799 -0.035322  0.081629   \n",
       "Pclass         -0.035144 -0.338481  1.000000  0.149629  0.083081  0.018443   \n",
       "Age            -0.017825 -0.096799  0.149629  1.000000  0.002841 -0.136187   \n",
       "SibSp          -0.057527 -0.035322  0.083081  0.002841  1.000000  0.414838   \n",
       "Parch          -0.001652  0.081629  0.018443 -0.136187  0.414838  1.000000   \n",
       "Fare            0.012658  0.257307 -0.549500 -0.094140  0.159651  0.216225   \n",
       "\n",
       "                 Fare  \n",
       "PassengerId  0.012658  \n",
       "Survived     0.257307  \n",
       "Pclass      -0.549500  \n",
       "Age         -0.094140  \n",
       "SibSp        0.159651  \n",
       "Parch        0.216225  \n",
       "Fare         1.000000  "
      ]
     },
     "execution_count": 28,
     "metadata": {},
     "output_type": "execute_result"
    }
   ],
   "source": [
    "df_train.corr()"
   ]
  },
  {
   "cell_type": "code",
   "execution_count": 29,
   "id": "863ab252",
   "metadata": {
    "execution": {
     "iopub.execute_input": "2022-08-03T17:19:25.277605Z",
     "iopub.status.busy": "2022-08-03T17:19:25.276931Z",
     "iopub.status.idle": "2022-08-03T17:19:25.282368Z",
     "shell.execute_reply": "2022-08-03T17:19:25.281423Z"
    },
    "papermill": {
     "duration": 0.033729,
     "end_time": "2022-08-03T17:19:25.284558",
     "exception": false,
     "start_time": "2022-08-03T17:19:25.250829",
     "status": "completed"
    },
    "tags": []
   },
   "outputs": [],
   "source": [
    "na_age = df_train['Age'] == 500\n",
    "df_train.loc[na_age,'Age'] = 0"
   ]
  },
  {
   "cell_type": "code",
   "execution_count": 30,
   "id": "c73f4ade",
   "metadata": {
    "execution": {
     "iopub.execute_input": "2022-08-03T17:19:25.335751Z",
     "iopub.status.busy": "2022-08-03T17:19:25.335106Z",
     "iopub.status.idle": "2022-08-03T17:19:25.343462Z",
     "shell.execute_reply": "2022-08-03T17:19:25.342157Z"
    },
    "papermill": {
     "duration": 0.036597,
     "end_time": "2022-08-03T17:19:25.345625",
     "exception": false,
     "start_time": "2022-08-03T17:19:25.309028",
     "status": "completed"
    },
    "tags": []
   },
   "outputs": [
    {
     "data": {
      "text/plain": [
       "Pclass\n",
       "1    32.923241\n",
       "2    28.091467\n",
       "3    18.177026\n",
       "Name: Age, dtype: float64"
      ]
     },
     "execution_count": 30,
     "metadata": {},
     "output_type": "execute_result"
    }
   ],
   "source": [
    "df_train.groupby('Pclass')['Age'].mean()"
   ]
  },
  {
   "cell_type": "code",
   "execution_count": 31,
   "id": "55d323ee",
   "metadata": {
    "execution": {
     "iopub.execute_input": "2022-08-03T17:19:25.396937Z",
     "iopub.status.busy": "2022-08-03T17:19:25.396521Z",
     "iopub.status.idle": "2022-08-03T17:19:25.572639Z",
     "shell.execute_reply": "2022-08-03T17:19:25.571627Z"
    },
    "papermill": {
     "duration": 0.204601,
     "end_time": "2022-08-03T17:19:25.575019",
     "exception": false,
     "start_time": "2022-08-03T17:19:25.370418",
     "status": "completed"
    },
    "tags": []
   },
   "outputs": [
    {
     "data": {
      "text/plain": [
       "<AxesSubplot:xlabel='Pclass'>"
      ]
     },
     "execution_count": 31,
     "metadata": {},
     "output_type": "execute_result"
    },
    {
     "data": {
      "image/png": "[encoded data removed]",
      "text/plain": [
       "<Figure size 432x288 with 1 Axes>"
      ]
     },
     "metadata": {
      "needs_background": "light"
     },
     "output_type": "display_data"
    }
   ],
   "source": [
    "# Filling NA for 'Age' column:\n",
    "df_train.groupby('Pclass')['Age'].mean().plot.bar()"
   ]
  },
  {
   "cell_type": "code",
   "execution_count": 32,
   "id": "f1c9418c",
   "metadata": {
    "execution": {
     "iopub.execute_input": "2022-08-03T17:19:25.627108Z",
     "iopub.status.busy": "2022-08-03T17:19:25.626086Z",
     "iopub.status.idle": "2022-08-03T17:19:25.631526Z",
     "shell.execute_reply": "2022-08-03T17:19:25.630377Z"
    },
    "papermill": {
     "duration": 0.033786,
     "end_time": "2022-08-03T17:19:25.633835",
     "exception": false,
     "start_time": "2022-08-03T17:19:25.600049",
     "status": "completed"
    },
    "tags": []
   },
   "outputs": [],
   "source": [
    "# df_train.loc[(df_train['Age'].isna()) & (df_train['Pclass'] == 1),'Age'] = 33\n",
    "# df_train.loc[(df_train['Age'].isna()) & (df_train['Pclass'] == 2),'Age'] = 28\n",
    "# df_train.loc[(df_train['Age'].isna()) & (df_train['Pclass'] == 3),'Age'] = 18"
   ]
  },
  {
   "cell_type": "code",
   "execution_count": 33,
   "id": "9c27b167",
   "metadata": {
    "execution": {
     "iopub.execute_input": "2022-08-03T17:19:25.685487Z",
     "iopub.status.busy": "2022-08-03T17:19:25.685087Z",
     "iopub.status.idle": "2022-08-03T17:19:25.695492Z",
     "shell.execute_reply": "2022-08-03T17:19:25.694177Z"
    },
    "papermill": {
     "duration": 0.038949,
     "end_time": "2022-08-03T17:19:25.697842",
     "exception": false,
     "start_time": "2022-08-03T17:19:25.658893",
     "status": "completed"
    },
    "tags": []
   },
   "outputs": [],
   "source": [
    "df_train.loc[(df_train['Age'] == 0) & (df_train['Pclass'] == 1),'Age'] = 33\n",
    "df_train.loc[(df_train['Age'] == 0) & (df_train['Pclass'] == 2),'Age'] = 28\n",
    "df_train.loc[(df_train['Age'] == 0) & (df_train['Pclass'] == 3),'Age'] = 18"
   ]
  },
  {
   "cell_type": "code",
   "execution_count": 34,
   "id": "ab87d47d",
   "metadata": {
    "execution": {
     "iopub.execute_input": "2022-08-03T17:19:25.750788Z",
     "iopub.status.busy": "2022-08-03T17:19:25.750275Z",
     "iopub.status.idle": "2022-08-03T17:19:26.083268Z",
     "shell.execute_reply": "2022-08-03T17:19:26.082431Z"
    },
    "papermill": {
     "duration": 0.362451,
     "end_time": "2022-08-03T17:19:26.085613",
     "exception": false,
     "start_time": "2022-08-03T17:19:25.723162",
     "status": "completed"
    },
    "tags": []
   },
   "outputs": [
    {
     "data": {
      "text/plain": [
       "<AxesSubplot:xlabel='Age', ylabel='Count'>"
      ]
     },
     "execution_count": 34,
     "metadata": {},
     "output_type": "execute_result"
    },
    {
     "data": {
      "image/png": "[encoded data removed]",
      "text/plain": [
       "<Figure size 432x288 with 1 Axes>"
      ]
     },
     "metadata": {
      "needs_background": "light"
     },
     "output_type": "display_data"
    }
   ],
   "source": [
    "sns.histplot(data=df_train,x = \"Age\",hue = \"Survived\",kde=True,binwidth=5)"
   ]
  },
  {
   "cell_type": "code",
   "execution_count": 35,
   "id": "0114a79e",
   "metadata": {
    "execution": {
     "iopub.execute_input": "2022-08-03T17:19:26.138703Z",
     "iopub.status.busy": "2022-08-03T17:19:26.138058Z",
     "iopub.status.idle": "2022-08-03T17:19:26.166026Z",
     "shell.execute_reply": "2022-08-03T17:19:26.163576Z"
    },
    "papermill": {
     "duration": 0.058163,
     "end_time": "2022-08-03T17:19:26.169162",
     "exception": false,
     "start_time": "2022-08-03T17:19:26.110999",
     "status": "completed"
    },
    "tags": []
   },
   "outputs": [
    {
     "data": {
      "text/html": [
       "<div>\n",
       "<style scoped>\n",
       "    .dataframe tbody tr th:only-of-type {\n",
       "        vertical-align: middle;\n",
       "    }\n",
       "\n",
       "    .dataframe tbody tr th {\n",
       "        vertical-align: top;\n",
       "    }\n",
       "\n",
       "    .dataframe thead th {\n",
       "        text-align: right;\n",
       "    }\n",
       "</style>\n",
       "<table border=\"1\" class=\"dataframe\">\n",
       "  <thead>\n",
       "    <tr style=\"text-align: right;\">\n",
       "      <th></th>\n",
       "      <th>PassengerId</th>\n",
       "      <th>Survived</th>\n",
       "      <th>Pclass</th>\n",
       "      <th>Name</th>\n",
       "      <th>Sex</th>\n",
       "      <th>Age</th>\n",
       "      <th>SibSp</th>\n",
       "      <th>Parch</th>\n",
       "      <th>Ticket</th>\n",
       "      <th>Fare</th>\n",
       "      <th>Embarked</th>\n",
       "      <th>Age_bands</th>\n",
       "    </tr>\n",
       "  </thead>\n",
       "  <tbody>\n",
       "    <tr>\n",
       "      <th>0</th>\n",
       "      <td>1</td>\n",
       "      <td>0</td>\n",
       "      <td>3</td>\n",
       "      <td>Braund, Mr. Owen Harris</td>\n",
       "      <td>male</td>\n",
       "      <td>22.0</td>\n",
       "      <td>1</td>\n",
       "      <td>0</td>\n",
       "      <td>A/5 21171</td>\n",
       "      <td>7.2500</td>\n",
       "      <td>S</td>\n",
       "      <td>(16.336, 32.252]</td>\n",
       "    </tr>\n",
       "    <tr>\n",
       "      <th>1</th>\n",
       "      <td>2</td>\n",
       "      <td>1</td>\n",
       "      <td>1</td>\n",
       "      <td>Cumings, Mrs. John Bradley (Florence Briggs Th...</td>\n",
       "      <td>female</td>\n",
       "      <td>38.0</td>\n",
       "      <td>1</td>\n",
       "      <td>0</td>\n",
       "      <td>PC 17599</td>\n",
       "      <td>71.2833</td>\n",
       "      <td>C</td>\n",
       "      <td>(32.252, 48.168]</td>\n",
       "    </tr>\n",
       "    <tr>\n",
       "      <th>2</th>\n",
       "      <td>3</td>\n",
       "      <td>1</td>\n",
       "      <td>3</td>\n",
       "      <td>Heikkinen, Miss. Laina</td>\n",
       "      <td>female</td>\n",
       "      <td>26.0</td>\n",
       "      <td>0</td>\n",
       "      <td>0</td>\n",
       "      <td>STON/O2. 3101282</td>\n",
       "      <td>7.9250</td>\n",
       "      <td>S</td>\n",
       "      <td>(16.336, 32.252]</td>\n",
       "    </tr>\n",
       "    <tr>\n",
       "      <th>3</th>\n",
       "      <td>4</td>\n",
       "      <td>1</td>\n",
       "      <td>1</td>\n",
       "      <td>Futrelle, Mrs. Jacques Heath (Lily May Peel)</td>\n",
       "      <td>female</td>\n",
       "      <td>35.0</td>\n",
       "      <td>1</td>\n",
       "      <td>0</td>\n",
       "      <td>113803</td>\n",
       "      <td>53.1000</td>\n",
       "      <td>S</td>\n",
       "      <td>(32.252, 48.168]</td>\n",
       "    </tr>\n",
       "    <tr>\n",
       "      <th>4</th>\n",
       "      <td>5</td>\n",
       "      <td>0</td>\n",
       "      <td>3</td>\n",
       "      <td>Allen, Mr. William Henry</td>\n",
       "      <td>male</td>\n",
       "      <td>35.0</td>\n",
       "      <td>0</td>\n",
       "      <td>0</td>\n",
       "      <td>373450</td>\n",
       "      <td>8.0500</td>\n",
       "      <td>S</td>\n",
       "      <td>(32.252, 48.168]</td>\n",
       "    </tr>\n",
       "  </tbody>\n",
       "</table>\n",
       "</div>"
      ],
      "text/plain": [
       "   PassengerId  Survived  Pclass  \\\n",
       "0            1         0       3   \n",
       "1            2         1       1   \n",
       "2            3         1       3   \n",
       "3            4         1       1   \n",
       "4            5         0       3   \n",
       "\n",
       "                                                Name     Sex   Age  SibSp  \\\n",
       "0                            Braund, Mr. Owen Harris    male  22.0      1   \n",
       "1  Cumings, Mrs. John Bradley (Florence Briggs Th...  female  38.0      1   \n",
       "2                             Heikkinen, Miss. Laina  female  26.0      0   \n",
       "3       Futrelle, Mrs. Jacques Heath (Lily May Peel)  female  35.0      1   \n",
       "4                           Allen, Mr. William Henry    male  35.0      0   \n",
       "\n",
       "   Parch            Ticket     Fare Embarked         Age_bands  \n",
       "0      0         A/5 21171   7.2500        S  (16.336, 32.252]  \n",
       "1      0          PC 17599  71.2833        C  (32.252, 48.168]  \n",
       "2      0  STON/O2. 3101282   7.9250        S  (16.336, 32.252]  \n",
       "3      0            113803  53.1000        S  (32.252, 48.168]  \n",
       "4      0            373450   8.0500        S  (32.252, 48.168]  "
      ]
     },
     "execution_count": 35,
     "metadata": {},
     "output_type": "execute_result"
    }
   ],
   "source": [
    "df_train[\"Age_bands\"] = pd.cut(df_train[\"Age\"],5)\n",
    "df_train.head()"
   ]
  },
  {
   "cell_type": "code",
   "execution_count": 36,
   "id": "9876eb6e",
   "metadata": {
    "execution": {
     "iopub.execute_input": "2022-08-03T17:19:26.222758Z",
     "iopub.status.busy": "2022-08-03T17:19:26.221646Z",
     "iopub.status.idle": "2022-08-03T17:19:26.233376Z",
     "shell.execute_reply": "2022-08-03T17:19:26.232419Z"
    },
    "papermill": {
     "duration": 0.040744,
     "end_time": "2022-08-03T17:19:26.235504",
     "exception": false,
     "start_time": "2022-08-03T17:19:26.194760",
     "status": "completed"
    },
    "tags": []
   },
   "outputs": [
    {
     "data": {
      "text/plain": [
       "(16.336, 32.252]    493\n",
       "(32.252, 48.168]    218\n",
       "(0.34, 16.336]      100\n",
       "(48.168, 64.084]     69\n",
       "(64.084, 80.0]       11\n",
       "Name: Age_bands, dtype: int64"
      ]
     },
     "execution_count": 36,
     "metadata": {},
     "output_type": "execute_result"
    }
   ],
   "source": [
    "df_train[\"Age_bands\"].value_counts()"
   ]
  },
  {
   "cell_type": "code",
   "execution_count": 37,
   "id": "1dae21bd",
   "metadata": {
    "execution": {
     "iopub.execute_input": "2022-08-03T17:19:26.289004Z",
     "iopub.status.busy": "2022-08-03T17:19:26.288585Z",
     "iopub.status.idle": "2022-08-03T17:19:26.299971Z",
     "shell.execute_reply": "2022-08-03T17:19:26.299123Z"
    },
    "papermill": {
     "duration": 0.041183,
     "end_time": "2022-08-03T17:19:26.302200",
     "exception": false,
     "start_time": "2022-08-03T17:19:26.261017",
     "status": "completed"
    },
    "tags": []
   },
   "outputs": [],
   "source": [
    "df_train.loc[df_train[\"Age\"] <= 16,'Age'] = 0\n",
    "df_train.loc[(df_train[\"Age\"] > 16) & (df_train[\"Age\"] <= 32) ,'Age'] = 0\n",
    "df_train.loc[(df_train[\"Age\"] > 32) & (df_train[\"Age\"] <= 48) ,'Age'] = 2\n",
    "df_train.loc[(df_train[\"Age\"] > 48) & (df_train[\"Age\"] <= 64) ,'Age'] = 3\n",
    "df_train.loc[(df_train[\"Age\"] > 64) ,'Age'] = 4"
   ]
  },
  {
   "cell_type": "code",
   "execution_count": 38,
   "id": "4dc18077",
   "metadata": {
    "execution": {
     "iopub.execute_input": "2022-08-03T17:19:26.355845Z",
     "iopub.status.busy": "2022-08-03T17:19:26.354602Z",
     "iopub.status.idle": "2022-08-03T17:19:26.359664Z",
     "shell.execute_reply": "2022-08-03T17:19:26.358915Z"
    },
    "papermill": {
     "duration": 0.034075,
     "end_time": "2022-08-03T17:19:26.361824",
     "exception": false,
     "start_time": "2022-08-03T17:19:26.327749",
     "status": "completed"
    },
    "tags": []
   },
   "outputs": [],
   "source": [
    "# pd.set_option('display.max_rows', 500)\n",
    "# pd.crosstab(df_train['Age'],df_train['Pclass'])"
   ]
  },
  {
   "cell_type": "code",
   "execution_count": 39,
   "id": "8bf821f4",
   "metadata": {
    "execution": {
     "iopub.execute_input": "2022-08-03T17:19:26.415682Z",
     "iopub.status.busy": "2022-08-03T17:19:26.414870Z",
     "iopub.status.idle": "2022-08-03T17:19:26.421749Z",
     "shell.execute_reply": "2022-08-03T17:19:26.421000Z"
    },
    "papermill": {
     "duration": 0.035913,
     "end_time": "2022-08-03T17:19:26.423921",
     "exception": false,
     "start_time": "2022-08-03T17:19:26.388008",
     "status": "completed"
    },
    "tags": []
   },
   "outputs": [],
   "source": [
    "relations = [\"SibSp\",\"Parch\"]\n",
    "df_train[\"Family_size\"] = df_train[relations].sum(axis=1)"
   ]
  },
  {
   "cell_type": "code",
   "execution_count": 40,
   "id": "f49a7c84",
   "metadata": {
    "execution": {
     "iopub.execute_input": "2022-08-03T17:19:26.476611Z",
     "iopub.status.busy": "2022-08-03T17:19:26.475970Z",
     "iopub.status.idle": "2022-08-03T17:19:26.500819Z",
     "shell.execute_reply": "2022-08-03T17:19:26.499506Z"
    },
    "papermill": {
     "duration": 0.053914,
     "end_time": "2022-08-03T17:19:26.503235",
     "exception": false,
     "start_time": "2022-08-03T17:19:26.449321",
     "status": "completed"
    },
    "tags": []
   },
   "outputs": [
    {
     "data": {
      "text/html": [
       "<div>\n",
       "<style scoped>\n",
       "    .dataframe tbody tr th:only-of-type {\n",
       "        vertical-align: middle;\n",
       "    }\n",
       "\n",
       "    .dataframe tbody tr th {\n",
       "        vertical-align: top;\n",
       "    }\n",
       "\n",
       "    .dataframe thead th {\n",
       "        text-align: right;\n",
       "    }\n",
       "</style>\n",
       "<table border=\"1\" class=\"dataframe\">\n",
       "  <thead>\n",
       "    <tr style=\"text-align: right;\">\n",
       "      <th></th>\n",
       "      <th>PassengerId</th>\n",
       "      <th>Survived</th>\n",
       "      <th>Pclass</th>\n",
       "      <th>Name</th>\n",
       "      <th>Sex</th>\n",
       "      <th>Age</th>\n",
       "      <th>SibSp</th>\n",
       "      <th>Parch</th>\n",
       "      <th>Ticket</th>\n",
       "      <th>Fare</th>\n",
       "      <th>Embarked</th>\n",
       "      <th>Age_bands</th>\n",
       "      <th>Family_size</th>\n",
       "    </tr>\n",
       "  </thead>\n",
       "  <tbody>\n",
       "    <tr>\n",
       "      <th>0</th>\n",
       "      <td>1</td>\n",
       "      <td>0</td>\n",
       "      <td>3</td>\n",
       "      <td>Braund, Mr. Owen Harris</td>\n",
       "      <td>male</td>\n",
       "      <td>0.0</td>\n",
       "      <td>1</td>\n",
       "      <td>0</td>\n",
       "      <td>A/5 21171</td>\n",
       "      <td>7.2500</td>\n",
       "      <td>S</td>\n",
       "      <td>(16.336, 32.252]</td>\n",
       "      <td>1</td>\n",
       "    </tr>\n",
       "    <tr>\n",
       "      <th>1</th>\n",
       "      <td>2</td>\n",
       "      <td>1</td>\n",
       "      <td>1</td>\n",
       "      <td>Cumings, Mrs. John Bradley (Florence Briggs Th...</td>\n",
       "      <td>female</td>\n",
       "      <td>2.0</td>\n",
       "      <td>1</td>\n",
       "      <td>0</td>\n",
       "      <td>PC 17599</td>\n",
       "      <td>71.2833</td>\n",
       "      <td>C</td>\n",
       "      <td>(32.252, 48.168]</td>\n",
       "      <td>1</td>\n",
       "    </tr>\n",
       "    <tr>\n",
       "      <th>2</th>\n",
       "      <td>3</td>\n",
       "      <td>1</td>\n",
       "      <td>3</td>\n",
       "      <td>Heikkinen, Miss. Laina</td>\n",
       "      <td>female</td>\n",
       "      <td>0.0</td>\n",
       "      <td>0</td>\n",
       "      <td>0</td>\n",
       "      <td>STON/O2. 3101282</td>\n",
       "      <td>7.9250</td>\n",
       "      <td>S</td>\n",
       "      <td>(16.336, 32.252]</td>\n",
       "      <td>0</td>\n",
       "    </tr>\n",
       "    <tr>\n",
       "      <th>3</th>\n",
       "      <td>4</td>\n",
       "      <td>1</td>\n",
       "      <td>1</td>\n",
       "      <td>Futrelle, Mrs. Jacques Heath (Lily May Peel)</td>\n",
       "      <td>female</td>\n",
       "      <td>2.0</td>\n",
       "      <td>1</td>\n",
       "      <td>0</td>\n",
       "      <td>113803</td>\n",
       "      <td>53.1000</td>\n",
       "      <td>S</td>\n",
       "      <td>(32.252, 48.168]</td>\n",
       "      <td>1</td>\n",
       "    </tr>\n",
       "    <tr>\n",
       "      <th>4</th>\n",
       "      <td>5</td>\n",
       "      <td>0</td>\n",
       "      <td>3</td>\n",
       "      <td>Allen, Mr. William Henry</td>\n",
       "      <td>male</td>\n",
       "      <td>2.0</td>\n",
       "      <td>0</td>\n",
       "      <td>0</td>\n",
       "      <td>373450</td>\n",
       "      <td>8.0500</td>\n",
       "      <td>S</td>\n",
       "      <td>(32.252, 48.168]</td>\n",
       "      <td>0</td>\n",
       "    </tr>\n",
       "    <tr>\n",
       "      <th>5</th>\n",
       "      <td>6</td>\n",
       "      <td>0</td>\n",
       "      <td>3</td>\n",
       "      <td>Moran, Mr. James</td>\n",
       "      <td>male</td>\n",
       "      <td>0.0</td>\n",
       "      <td>0</td>\n",
       "      <td>0</td>\n",
       "      <td>330877</td>\n",
       "      <td>8.4583</td>\n",
       "      <td>Q</td>\n",
       "      <td>(16.336, 32.252]</td>\n",
       "      <td>0</td>\n",
       "    </tr>\n",
       "    <tr>\n",
       "      <th>6</th>\n",
       "      <td>7</td>\n",
       "      <td>0</td>\n",
       "      <td>1</td>\n",
       "      <td>McCarthy, Mr. Timothy J</td>\n",
       "      <td>male</td>\n",
       "      <td>3.0</td>\n",
       "      <td>0</td>\n",
       "      <td>0</td>\n",
       "      <td>17463</td>\n",
       "      <td>51.8625</td>\n",
       "      <td>S</td>\n",
       "      <td>(48.168, 64.084]</td>\n",
       "      <td>0</td>\n",
       "    </tr>\n",
       "    <tr>\n",
       "      <th>7</th>\n",
       "      <td>8</td>\n",
       "      <td>0</td>\n",
       "      <td>3</td>\n",
       "      <td>Palsson, Master. Gosta Leonard</td>\n",
       "      <td>male</td>\n",
       "      <td>0.0</td>\n",
       "      <td>3</td>\n",
       "      <td>1</td>\n",
       "      <td>349909</td>\n",
       "      <td>21.0750</td>\n",
       "      <td>S</td>\n",
       "      <td>(0.34, 16.336]</td>\n",
       "      <td>4</td>\n",
       "    </tr>\n",
       "    <tr>\n",
       "      <th>8</th>\n",
       "      <td>9</td>\n",
       "      <td>1</td>\n",
       "      <td>3</td>\n",
       "      <td>Johnson, Mrs. Oscar W (Elisabeth Vilhelmina Berg)</td>\n",
       "      <td>female</td>\n",
       "      <td>0.0</td>\n",
       "      <td>0</td>\n",
       "      <td>2</td>\n",
       "      <td>347742</td>\n",
       "      <td>11.1333</td>\n",
       "      <td>S</td>\n",
       "      <td>(16.336, 32.252]</td>\n",
       "      <td>2</td>\n",
       "    </tr>\n",
       "    <tr>\n",
       "      <th>9</th>\n",
       "      <td>10</td>\n",
       "      <td>1</td>\n",
       "      <td>2</td>\n",
       "      <td>Nasser, Mrs. Nicholas (Adele Achem)</td>\n",
       "      <td>female</td>\n",
       "      <td>0.0</td>\n",
       "      <td>1</td>\n",
       "      <td>0</td>\n",
       "      <td>237736</td>\n",
       "      <td>30.0708</td>\n",
       "      <td>C</td>\n",
       "      <td>(0.34, 16.336]</td>\n",
       "      <td>1</td>\n",
       "    </tr>\n",
       "    <tr>\n",
       "      <th>10</th>\n",
       "      <td>11</td>\n",
       "      <td>1</td>\n",
       "      <td>3</td>\n",
       "      <td>Sandstrom, Miss. Marguerite Rut</td>\n",
       "      <td>female</td>\n",
       "      <td>0.0</td>\n",
       "      <td>1</td>\n",
       "      <td>1</td>\n",
       "      <td>PP 9549</td>\n",
       "      <td>16.7000</td>\n",
       "      <td>S</td>\n",
       "      <td>(0.34, 16.336]</td>\n",
       "      <td>2</td>\n",
       "    </tr>\n",
       "    <tr>\n",
       "      <th>11</th>\n",
       "      <td>12</td>\n",
       "      <td>1</td>\n",
       "      <td>1</td>\n",
       "      <td>Bonnell, Miss. Elizabeth</td>\n",
       "      <td>female</td>\n",
       "      <td>3.0</td>\n",
       "      <td>0</td>\n",
       "      <td>0</td>\n",
       "      <td>113783</td>\n",
       "      <td>26.5500</td>\n",
       "      <td>S</td>\n",
       "      <td>(48.168, 64.084]</td>\n",
       "      <td>0</td>\n",
       "    </tr>\n",
       "    <tr>\n",
       "      <th>12</th>\n",
       "      <td>13</td>\n",
       "      <td>0</td>\n",
       "      <td>3</td>\n",
       "      <td>Saundercock, Mr. William Henry</td>\n",
       "      <td>male</td>\n",
       "      <td>0.0</td>\n",
       "      <td>0</td>\n",
       "      <td>0</td>\n",
       "      <td>A/5. 2151</td>\n",
       "      <td>8.0500</td>\n",
       "      <td>S</td>\n",
       "      <td>(16.336, 32.252]</td>\n",
       "      <td>0</td>\n",
       "    </tr>\n",
       "    <tr>\n",
       "      <th>13</th>\n",
       "      <td>14</td>\n",
       "      <td>0</td>\n",
       "      <td>3</td>\n",
       "      <td>Andersson, Mr. Anders Johan</td>\n",
       "      <td>male</td>\n",
       "      <td>2.0</td>\n",
       "      <td>1</td>\n",
       "      <td>5</td>\n",
       "      <td>347082</td>\n",
       "      <td>31.2750</td>\n",
       "      <td>S</td>\n",
       "      <td>(32.252, 48.168]</td>\n",
       "      <td>6</td>\n",
       "    </tr>\n",
       "    <tr>\n",
       "      <th>14</th>\n",
       "      <td>15</td>\n",
       "      <td>0</td>\n",
       "      <td>3</td>\n",
       "      <td>Vestrom, Miss. Hulda Amanda Adolfina</td>\n",
       "      <td>female</td>\n",
       "      <td>0.0</td>\n",
       "      <td>0</td>\n",
       "      <td>0</td>\n",
       "      <td>350406</td>\n",
       "      <td>7.8542</td>\n",
       "      <td>S</td>\n",
       "      <td>(0.34, 16.336]</td>\n",
       "      <td>0</td>\n",
       "    </tr>\n",
       "    <tr>\n",
       "      <th>15</th>\n",
       "      <td>16</td>\n",
       "      <td>1</td>\n",
       "      <td>2</td>\n",
       "      <td>Hewlett, Mrs. (Mary D Kingcome)</td>\n",
       "      <td>female</td>\n",
       "      <td>3.0</td>\n",
       "      <td>0</td>\n",
       "      <td>0</td>\n",
       "      <td>248706</td>\n",
       "      <td>16.0000</td>\n",
       "      <td>S</td>\n",
       "      <td>(48.168, 64.084]</td>\n",
       "      <td>0</td>\n",
       "    </tr>\n",
       "    <tr>\n",
       "      <th>16</th>\n",
       "      <td>17</td>\n",
       "      <td>0</td>\n",
       "      <td>3</td>\n",
       "      <td>Rice, Master. Eugene</td>\n",
       "      <td>male</td>\n",
       "      <td>0.0</td>\n",
       "      <td>4</td>\n",
       "      <td>1</td>\n",
       "      <td>382652</td>\n",
       "      <td>29.1250</td>\n",
       "      <td>Q</td>\n",
       "      <td>(0.34, 16.336]</td>\n",
       "      <td>5</td>\n",
       "    </tr>\n",
       "    <tr>\n",
       "      <th>17</th>\n",
       "      <td>18</td>\n",
       "      <td>1</td>\n",
       "      <td>2</td>\n",
       "      <td>Williams, Mr. Charles Eugene</td>\n",
       "      <td>male</td>\n",
       "      <td>0.0</td>\n",
       "      <td>0</td>\n",
       "      <td>0</td>\n",
       "      <td>244373</td>\n",
       "      <td>13.0000</td>\n",
       "      <td>S</td>\n",
       "      <td>(16.336, 32.252]</td>\n",
       "      <td>0</td>\n",
       "    </tr>\n",
       "    <tr>\n",
       "      <th>18</th>\n",
       "      <td>19</td>\n",
       "      <td>0</td>\n",
       "      <td>3</td>\n",
       "      <td>Vander Planke, Mrs. Julius (Emelia Maria Vande...</td>\n",
       "      <td>female</td>\n",
       "      <td>0.0</td>\n",
       "      <td>1</td>\n",
       "      <td>0</td>\n",
       "      <td>345763</td>\n",
       "      <td>18.0000</td>\n",
       "      <td>S</td>\n",
       "      <td>(16.336, 32.252]</td>\n",
       "      <td>1</td>\n",
       "    </tr>\n",
       "    <tr>\n",
       "      <th>19</th>\n",
       "      <td>20</td>\n",
       "      <td>1</td>\n",
       "      <td>3</td>\n",
       "      <td>Masselmani, Mrs. Fatima</td>\n",
       "      <td>female</td>\n",
       "      <td>0.0</td>\n",
       "      <td>0</td>\n",
       "      <td>0</td>\n",
       "      <td>2649</td>\n",
       "      <td>7.2250</td>\n",
       "      <td>C</td>\n",
       "      <td>(16.336, 32.252]</td>\n",
       "      <td>0</td>\n",
       "    </tr>\n",
       "    <tr>\n",
       "      <th>20</th>\n",
       "      <td>21</td>\n",
       "      <td>0</td>\n",
       "      <td>2</td>\n",
       "      <td>Fynney, Mr. Joseph J</td>\n",
       "      <td>male</td>\n",
       "      <td>2.0</td>\n",
       "      <td>0</td>\n",
       "      <td>0</td>\n",
       "      <td>239865</td>\n",
       "      <td>26.0000</td>\n",
       "      <td>S</td>\n",
       "      <td>(32.252, 48.168]</td>\n",
       "      <td>0</td>\n",
       "    </tr>\n",
       "    <tr>\n",
       "      <th>21</th>\n",
       "      <td>22</td>\n",
       "      <td>1</td>\n",
       "      <td>2</td>\n",
       "      <td>Beesley, Mr. Lawrence</td>\n",
       "      <td>male</td>\n",
       "      <td>2.0</td>\n",
       "      <td>0</td>\n",
       "      <td>0</td>\n",
       "      <td>248698</td>\n",
       "      <td>13.0000</td>\n",
       "      <td>S</td>\n",
       "      <td>(32.252, 48.168]</td>\n",
       "      <td>0</td>\n",
       "    </tr>\n",
       "    <tr>\n",
       "      <th>22</th>\n",
       "      <td>23</td>\n",
       "      <td>1</td>\n",
       "      <td>3</td>\n",
       "      <td>McGowan, Miss. Anna \"Annie\"</td>\n",
       "      <td>female</td>\n",
       "      <td>0.0</td>\n",
       "      <td>0</td>\n",
       "      <td>0</td>\n",
       "      <td>330923</td>\n",
       "      <td>8.0292</td>\n",
       "      <td>Q</td>\n",
       "      <td>(0.34, 16.336]</td>\n",
       "      <td>0</td>\n",
       "    </tr>\n",
       "    <tr>\n",
       "      <th>23</th>\n",
       "      <td>24</td>\n",
       "      <td>1</td>\n",
       "      <td>1</td>\n",
       "      <td>Sloper, Mr. William Thompson</td>\n",
       "      <td>male</td>\n",
       "      <td>0.0</td>\n",
       "      <td>0</td>\n",
       "      <td>0</td>\n",
       "      <td>113788</td>\n",
       "      <td>35.5000</td>\n",
       "      <td>S</td>\n",
       "      <td>(16.336, 32.252]</td>\n",
       "      <td>0</td>\n",
       "    </tr>\n",
       "    <tr>\n",
       "      <th>24</th>\n",
       "      <td>25</td>\n",
       "      <td>0</td>\n",
       "      <td>3</td>\n",
       "      <td>Palsson, Miss. Torborg Danira</td>\n",
       "      <td>female</td>\n",
       "      <td>0.0</td>\n",
       "      <td>3</td>\n",
       "      <td>1</td>\n",
       "      <td>349909</td>\n",
       "      <td>21.0750</td>\n",
       "      <td>S</td>\n",
       "      <td>(0.34, 16.336]</td>\n",
       "      <td>4</td>\n",
       "    </tr>\n",
       "  </tbody>\n",
       "</table>\n",
       "</div>"
      ],
      "text/plain": [
       "    PassengerId  Survived  Pclass  \\\n",
       "0             1         0       3   \n",
       "1             2         1       1   \n",
       "2             3         1       3   \n",
       "3             4         1       1   \n",
       "4             5         0       3   \n",
       "5             6         0       3   \n",
       "6             7         0       1   \n",
       "7             8         0       3   \n",
       "8             9         1       3   \n",
       "9            10         1       2   \n",
       "10           11         1       3   \n",
       "11           12         1       1   \n",
       "12           13         0       3   \n",
       "13           14         0       3   \n",
       "14           15         0       3   \n",
       "15           16         1       2   \n",
       "16           17         0       3   \n",
       "17           18         1       2   \n",
       "18           19         0       3   \n",
       "19           20         1       3   \n",
       "20           21         0       2   \n",
       "21           22         1       2   \n",
       "22           23         1       3   \n",
       "23           24         1       1   \n",
       "24           25         0       3   \n",
       "\n",
       "                                                 Name     Sex  Age  SibSp  \\\n",
       "0                             Braund, Mr. Owen Harris    male  0.0      1   \n",
       "1   Cumings, Mrs. John Bradley (Florence Briggs Th...  female  2.0      1   \n",
       "2                              Heikkinen, Miss. Laina  female  0.0      0   \n",
       "3        Futrelle, Mrs. Jacques Heath (Lily May Peel)  female  2.0      1   \n",
       "4                            Allen, Mr. William Henry    male  2.0      0   \n",
       "5                                    Moran, Mr. James    male  0.0      0   \n",
       "6                             McCarthy, Mr. Timothy J    male  3.0      0   \n",
       "7                      Palsson, Master. Gosta Leonard    male  0.0      3   \n",
       "8   Johnson, Mrs. Oscar W (Elisabeth Vilhelmina Berg)  female  0.0      0   \n",
       "9                 Nasser, Mrs. Nicholas (Adele Achem)  female  0.0      1   \n",
       "10                    Sandstrom, Miss. Marguerite Rut  female  0.0      1   \n",
       "11                           Bonnell, Miss. Elizabeth  female  3.0      0   \n",
       "12                     Saundercock, Mr. William Henry    male  0.0      0   \n",
       "13                        Andersson, Mr. Anders Johan    male  2.0      1   \n",
       "14               Vestrom, Miss. Hulda Amanda Adolfina  female  0.0      0   \n",
       "15                   Hewlett, Mrs. (Mary D Kingcome)   female  3.0      0   \n",
       "16                               Rice, Master. Eugene    male  0.0      4   \n",
       "17                       Williams, Mr. Charles Eugene    male  0.0      0   \n",
       "18  Vander Planke, Mrs. Julius (Emelia Maria Vande...  female  0.0      1   \n",
       "19                            Masselmani, Mrs. Fatima  female  0.0      0   \n",
       "20                               Fynney, Mr. Joseph J    male  2.0      0   \n",
       "21                              Beesley, Mr. Lawrence    male  2.0      0   \n",
       "22                        McGowan, Miss. Anna \"Annie\"  female  0.0      0   \n",
       "23                       Sloper, Mr. William Thompson    male  0.0      0   \n",
       "24                      Palsson, Miss. Torborg Danira  female  0.0      3   \n",
       "\n",
       "    Parch            Ticket     Fare Embarked         Age_bands  Family_size  \n",
       "0       0         A/5 21171   7.2500        S  (16.336, 32.252]            1  \n",
       "1       0          PC 17599  71.2833        C  (32.252, 48.168]            1  \n",
       "2       0  STON/O2. 3101282   7.9250        S  (16.336, 32.252]            0  \n",
       "3       0            113803  53.1000        S  (32.252, 48.168]            1  \n",
       "4       0            373450   8.0500        S  (32.252, 48.168]            0  \n",
       "5       0            330877   8.4583        Q  (16.336, 32.252]            0  \n",
       "6       0             17463  51.8625        S  (48.168, 64.084]            0  \n",
       "7       1            349909  21.0750        S    (0.34, 16.336]            4  \n",
       "8       2            347742  11.1333        S  (16.336, 32.252]            2  \n",
       "9       0            237736  30.0708        C    (0.34, 16.336]            1  \n",
       "10      1           PP 9549  16.7000        S    (0.34, 16.336]            2  \n",
       "11      0            113783  26.5500        S  (48.168, 64.084]            0  \n",
       "12      0         A/5. 2151   8.0500        S  (16.336, 32.252]            0  \n",
       "13      5            347082  31.2750        S  (32.252, 48.168]            6  \n",
       "14      0            350406   7.8542        S    (0.34, 16.336]            0  \n",
       "15      0            248706  16.0000        S  (48.168, 64.084]            0  \n",
       "16      1            382652  29.1250        Q    (0.34, 16.336]            5  \n",
       "17      0            244373  13.0000        S  (16.336, 32.252]            0  \n",
       "18      0            345763  18.0000        S  (16.336, 32.252]            1  \n",
       "19      0              2649   7.2250        C  (16.336, 32.252]            0  \n",
       "20      0            239865  26.0000        S  (32.252, 48.168]            0  \n",
       "21      0            248698  13.0000        S  (32.252, 48.168]            0  \n",
       "22      0            330923   8.0292        Q    (0.34, 16.336]            0  \n",
       "23      0            113788  35.5000        S  (16.336, 32.252]            0  \n",
       "24      1            349909  21.0750        S    (0.34, 16.336]            4  "
      ]
     },
     "execution_count": 40,
     "metadata": {},
     "output_type": "execute_result"
    }
   ],
   "source": [
    "df_train.head(25)"
   ]
  },
  {
   "cell_type": "code",
   "execution_count": 41,
   "id": "07ce1963",
   "metadata": {
    "execution": {
     "iopub.execute_input": "2022-08-03T17:19:26.557543Z",
     "iopub.status.busy": "2022-08-03T17:19:26.556756Z",
     "iopub.status.idle": "2022-08-03T17:19:26.573691Z",
     "shell.execute_reply": "2022-08-03T17:19:26.572544Z"
    },
    "papermill": {
     "duration": 0.046755,
     "end_time": "2022-08-03T17:19:26.575979",
     "exception": false,
     "start_time": "2022-08-03T17:19:26.529224",
     "status": "completed"
    },
    "tags": []
   },
   "outputs": [
    {
     "data": {
      "text/html": [
       "<div>\n",
       "<style scoped>\n",
       "    .dataframe tbody tr th:only-of-type {\n",
       "        vertical-align: middle;\n",
       "    }\n",
       "\n",
       "    .dataframe tbody tr th {\n",
       "        vertical-align: top;\n",
       "    }\n",
       "\n",
       "    .dataframe thead th {\n",
       "        text-align: right;\n",
       "    }\n",
       "</style>\n",
       "<table border=\"1\" class=\"dataframe\">\n",
       "  <thead>\n",
       "    <tr style=\"text-align: right;\">\n",
       "      <th></th>\n",
       "      <th>PassengerId</th>\n",
       "      <th>Survived</th>\n",
       "      <th>Pclass</th>\n",
       "      <th>Age</th>\n",
       "      <th>SibSp</th>\n",
       "      <th>Parch</th>\n",
       "      <th>Fare</th>\n",
       "      <th>Family_size</th>\n",
       "    </tr>\n",
       "  </thead>\n",
       "  <tbody>\n",
       "    <tr>\n",
       "      <th>PassengerId</th>\n",
       "      <td>1.000000</td>\n",
       "      <td>-0.005007</td>\n",
       "      <td>-0.035144</td>\n",
       "      <td>0.020861</td>\n",
       "      <td>-0.057527</td>\n",
       "      <td>-0.001652</td>\n",
       "      <td>0.012658</td>\n",
       "      <td>-0.040143</td>\n",
       "    </tr>\n",
       "    <tr>\n",
       "      <th>Survived</th>\n",
       "      <td>-0.005007</td>\n",
       "      <td>1.000000</td>\n",
       "      <td>-0.338481</td>\n",
       "      <td>0.021027</td>\n",
       "      <td>-0.035322</td>\n",
       "      <td>0.081629</td>\n",
       "      <td>0.257307</td>\n",
       "      <td>0.016639</td>\n",
       "    </tr>\n",
       "    <tr>\n",
       "      <th>Pclass</th>\n",
       "      <td>-0.035144</td>\n",
       "      <td>-0.338481</td>\n",
       "      <td>1.000000</td>\n",
       "      <td>-0.456160</td>\n",
       "      <td>0.083081</td>\n",
       "      <td>0.018443</td>\n",
       "      <td>-0.549500</td>\n",
       "      <td>0.065997</td>\n",
       "    </tr>\n",
       "    <tr>\n",
       "      <th>Age</th>\n",
       "      <td>0.020861</td>\n",
       "      <td>0.021027</td>\n",
       "      <td>-0.456160</td>\n",
       "      <td>1.000000</td>\n",
       "      <td>-0.122752</td>\n",
       "      <td>-0.019903</td>\n",
       "      <td>0.185595</td>\n",
       "      <td>-0.093840</td>\n",
       "    </tr>\n",
       "    <tr>\n",
       "      <th>SibSp</th>\n",
       "      <td>-0.057527</td>\n",
       "      <td>-0.035322</td>\n",
       "      <td>0.083081</td>\n",
       "      <td>-0.122752</td>\n",
       "      <td>1.000000</td>\n",
       "      <td>0.414838</td>\n",
       "      <td>0.159651</td>\n",
       "      <td>0.890712</td>\n",
       "    </tr>\n",
       "    <tr>\n",
       "      <th>Parch</th>\n",
       "      <td>-0.001652</td>\n",
       "      <td>0.081629</td>\n",
       "      <td>0.018443</td>\n",
       "      <td>-0.019903</td>\n",
       "      <td>0.414838</td>\n",
       "      <td>1.000000</td>\n",
       "      <td>0.216225</td>\n",
       "      <td>0.783111</td>\n",
       "    </tr>\n",
       "    <tr>\n",
       "      <th>Fare</th>\n",
       "      <td>0.012658</td>\n",
       "      <td>0.257307</td>\n",
       "      <td>-0.549500</td>\n",
       "      <td>0.185595</td>\n",
       "      <td>0.159651</td>\n",
       "      <td>0.216225</td>\n",
       "      <td>1.000000</td>\n",
       "      <td>0.217138</td>\n",
       "    </tr>\n",
       "    <tr>\n",
       "      <th>Family_size</th>\n",
       "      <td>-0.040143</td>\n",
       "      <td>0.016639</td>\n",
       "      <td>0.065997</td>\n",
       "      <td>-0.093840</td>\n",
       "      <td>0.890712</td>\n",
       "      <td>0.783111</td>\n",
       "      <td>0.217138</td>\n",
       "      <td>1.000000</td>\n",
       "    </tr>\n",
       "  </tbody>\n",
       "</table>\n",
       "</div>"
      ],
      "text/plain": [
       "             PassengerId  Survived    Pclass       Age     SibSp     Parch  \\\n",
       "PassengerId     1.000000 -0.005007 -0.035144  0.020861 -0.057527 -0.001652   \n",
       "Survived       -0.005007  1.000000 -0.338481  0.021027 -0.035322  0.081629   \n",
       "Pclass         -0.035144 -0.338481  1.000000 -0.456160  0.083081  0.018443   \n",
       "Age             0.020861  0.021027 -0.456160  1.000000 -0.122752 -0.019903   \n",
       "SibSp          -0.057527 -0.035322  0.083081 -0.122752  1.000000  0.414838   \n",
       "Parch          -0.001652  0.081629  0.018443 -0.019903  0.414838  1.000000   \n",
       "Fare            0.012658  0.257307 -0.549500  0.185595  0.159651  0.216225   \n",
       "Family_size    -0.040143  0.016639  0.065997 -0.093840  0.890712  0.783111   \n",
       "\n",
       "                 Fare  Family_size  \n",
       "PassengerId  0.012658    -0.040143  \n",
       "Survived     0.257307     0.016639  \n",
       "Pclass      -0.549500     0.065997  \n",
       "Age          0.185595    -0.093840  \n",
       "SibSp        0.159651     0.890712  \n",
       "Parch        0.216225     0.783111  \n",
       "Fare         1.000000     0.217138  \n",
       "Family_size  0.217138     1.000000  "
      ]
     },
     "execution_count": 41,
     "metadata": {},
     "output_type": "execute_result"
    }
   ],
   "source": [
    "df_train.corr()"
   ]
  },
  {
   "cell_type": "code",
   "execution_count": 42,
   "id": "f85f468c",
   "metadata": {
    "execution": {
     "iopub.execute_input": "2022-08-03T17:19:26.631164Z",
     "iopub.status.busy": "2022-08-03T17:19:26.630443Z",
     "iopub.status.idle": "2022-08-03T17:19:26.637529Z",
     "shell.execute_reply": "2022-08-03T17:19:26.636782Z"
    },
    "papermill": {
     "duration": 0.037248,
     "end_time": "2022-08-03T17:19:26.639595",
     "exception": false,
     "start_time": "2022-08-03T17:19:26.602347",
     "status": "completed"
    },
    "tags": []
   },
   "outputs": [
    {
     "data": {
      "text/plain": [
       "PassengerId       int64\n",
       "Survived          int64\n",
       "Pclass            int64\n",
       "Name             object\n",
       "Sex              object\n",
       "Age             float64\n",
       "SibSp             int64\n",
       "Parch             int64\n",
       "Ticket           object\n",
       "Fare            float64\n",
       "Embarked         object\n",
       "Age_bands      category\n",
       "Family_size       int64\n",
       "dtype: object"
      ]
     },
     "execution_count": 42,
     "metadata": {},
     "output_type": "execute_result"
    }
   ],
   "source": [
    "df_train.dtypes"
   ]
  },
  {
   "cell_type": "code",
   "execution_count": 43,
   "id": "954d8e2b",
   "metadata": {
    "execution": {
     "iopub.execute_input": "2022-08-03T17:19:26.694939Z",
     "iopub.status.busy": "2022-08-03T17:19:26.694244Z",
     "iopub.status.idle": "2022-08-03T17:19:26.698331Z",
     "shell.execute_reply": "2022-08-03T17:19:26.697390Z"
    },
    "papermill": {
     "duration": 0.034271,
     "end_time": "2022-08-03T17:19:26.700485",
     "exception": false,
     "start_time": "2022-08-03T17:19:26.666214",
     "status": "completed"
    },
    "tags": []
   },
   "outputs": [],
   "source": [
    "# from sklearn.preprocessing import OneHotEncoder\n",
    "# enc = OneHotEncoder()\n",
    "# enc.fit(df_train[\"Embarked\"])  "
   ]
  },
  {
   "cell_type": "code",
   "execution_count": 44,
   "id": "d290a64f",
   "metadata": {
    "execution": {
     "iopub.execute_input": "2022-08-03T17:19:26.755779Z",
     "iopub.status.busy": "2022-08-03T17:19:26.755138Z",
     "iopub.status.idle": "2022-08-03T17:19:26.762791Z",
     "shell.execute_reply": "2022-08-03T17:19:26.761995Z"
    },
    "papermill": {
     "duration": 0.038313,
     "end_time": "2022-08-03T17:19:26.765253",
     "exception": false,
     "start_time": "2022-08-03T17:19:26.726940",
     "status": "completed"
    },
    "tags": []
   },
   "outputs": [],
   "source": [
    "from sklearn.preprocessing import OrdinalEncoder\n",
    "ord_encoder = OrdinalEncoder()\n",
    "embarked_col = df_train[[\"Embarked\"]]\n",
    "encoded_embarked = ord_encoder.fit_transform(embarked_col)\n",
    "df_train[\"Embarked_num\"] = encoded_embarked"
   ]
  },
  {
   "cell_type": "code",
   "execution_count": 45,
   "id": "03c13002",
   "metadata": {
    "execution": {
     "iopub.execute_input": "2022-08-03T17:19:26.820252Z",
     "iopub.status.busy": "2022-08-03T17:19:26.819811Z",
     "iopub.status.idle": "2022-08-03T17:19:26.839812Z",
     "shell.execute_reply": "2022-08-03T17:19:26.838692Z"
    },
    "papermill": {
     "duration": 0.050376,
     "end_time": "2022-08-03T17:19:26.842118",
     "exception": false,
     "start_time": "2022-08-03T17:19:26.791742",
     "status": "completed"
    },
    "tags": []
   },
   "outputs": [
    {
     "data": {
      "text/html": [
       "<div>\n",
       "<style scoped>\n",
       "    .dataframe tbody tr th:only-of-type {\n",
       "        vertical-align: middle;\n",
       "    }\n",
       "\n",
       "    .dataframe tbody tr th {\n",
       "        vertical-align: top;\n",
       "    }\n",
       "\n",
       "    .dataframe thead th {\n",
       "        text-align: right;\n",
       "    }\n",
       "</style>\n",
       "<table border=\"1\" class=\"dataframe\">\n",
       "  <thead>\n",
       "    <tr style=\"text-align: right;\">\n",
       "      <th></th>\n",
       "      <th>PassengerId</th>\n",
       "      <th>Survived</th>\n",
       "      <th>Pclass</th>\n",
       "      <th>Name</th>\n",
       "      <th>Sex</th>\n",
       "      <th>Age</th>\n",
       "      <th>SibSp</th>\n",
       "      <th>Parch</th>\n",
       "      <th>Ticket</th>\n",
       "      <th>Fare</th>\n",
       "      <th>Embarked</th>\n",
       "      <th>Age_bands</th>\n",
       "      <th>Family_size</th>\n",
       "      <th>Embarked_num</th>\n",
       "    </tr>\n",
       "  </thead>\n",
       "  <tbody>\n",
       "    <tr>\n",
       "      <th>0</th>\n",
       "      <td>1</td>\n",
       "      <td>0</td>\n",
       "      <td>3</td>\n",
       "      <td>Braund, Mr. Owen Harris</td>\n",
       "      <td>male</td>\n",
       "      <td>0.0</td>\n",
       "      <td>1</td>\n",
       "      <td>0</td>\n",
       "      <td>A/5 21171</td>\n",
       "      <td>7.2500</td>\n",
       "      <td>S</td>\n",
       "      <td>(16.336, 32.252]</td>\n",
       "      <td>1</td>\n",
       "      <td>2.0</td>\n",
       "    </tr>\n",
       "    <tr>\n",
       "      <th>1</th>\n",
       "      <td>2</td>\n",
       "      <td>1</td>\n",
       "      <td>1</td>\n",
       "      <td>Cumings, Mrs. John Bradley (Florence Briggs Th...</td>\n",
       "      <td>female</td>\n",
       "      <td>2.0</td>\n",
       "      <td>1</td>\n",
       "      <td>0</td>\n",
       "      <td>PC 17599</td>\n",
       "      <td>71.2833</td>\n",
       "      <td>C</td>\n",
       "      <td>(32.252, 48.168]</td>\n",
       "      <td>1</td>\n",
       "      <td>0.0</td>\n",
       "    </tr>\n",
       "    <tr>\n",
       "      <th>2</th>\n",
       "      <td>3</td>\n",
       "      <td>1</td>\n",
       "      <td>3</td>\n",
       "      <td>Heikkinen, Miss. Laina</td>\n",
       "      <td>female</td>\n",
       "      <td>0.0</td>\n",
       "      <td>0</td>\n",
       "      <td>0</td>\n",
       "      <td>STON/O2. 3101282</td>\n",
       "      <td>7.9250</td>\n",
       "      <td>S</td>\n",
       "      <td>(16.336, 32.252]</td>\n",
       "      <td>0</td>\n",
       "      <td>2.0</td>\n",
       "    </tr>\n",
       "    <tr>\n",
       "      <th>3</th>\n",
       "      <td>4</td>\n",
       "      <td>1</td>\n",
       "      <td>1</td>\n",
       "      <td>Futrelle, Mrs. Jacques Heath (Lily May Peel)</td>\n",
       "      <td>female</td>\n",
       "      <td>2.0</td>\n",
       "      <td>1</td>\n",
       "      <td>0</td>\n",
       "      <td>113803</td>\n",
       "      <td>53.1000</td>\n",
       "      <td>S</td>\n",
       "      <td>(32.252, 48.168]</td>\n",
       "      <td>1</td>\n",
       "      <td>2.0</td>\n",
       "    </tr>\n",
       "    <tr>\n",
       "      <th>4</th>\n",
       "      <td>5</td>\n",
       "      <td>0</td>\n",
       "      <td>3</td>\n",
       "      <td>Allen, Mr. William Henry</td>\n",
       "      <td>male</td>\n",
       "      <td>2.0</td>\n",
       "      <td>0</td>\n",
       "      <td>0</td>\n",
       "      <td>373450</td>\n",
       "      <td>8.0500</td>\n",
       "      <td>S</td>\n",
       "      <td>(32.252, 48.168]</td>\n",
       "      <td>0</td>\n",
       "      <td>2.0</td>\n",
       "    </tr>\n",
       "  </tbody>\n",
       "</table>\n",
       "</div>"
      ],
      "text/plain": [
       "   PassengerId  Survived  Pclass  \\\n",
       "0            1         0       3   \n",
       "1            2         1       1   \n",
       "2            3         1       3   \n",
       "3            4         1       1   \n",
       "4            5         0       3   \n",
       "\n",
       "                                                Name     Sex  Age  SibSp  \\\n",
       "0                            Braund, Mr. Owen Harris    male  0.0      1   \n",
       "1  Cumings, Mrs. John Bradley (Florence Briggs Th...  female  2.0      1   \n",
       "2                             Heikkinen, Miss. Laina  female  0.0      0   \n",
       "3       Futrelle, Mrs. Jacques Heath (Lily May Peel)  female  2.0      1   \n",
       "4                           Allen, Mr. William Henry    male  2.0      0   \n",
       "\n",
       "   Parch            Ticket     Fare Embarked         Age_bands  Family_size  \\\n",
       "0      0         A/5 21171   7.2500        S  (16.336, 32.252]            1   \n",
       "1      0          PC 17599  71.2833        C  (32.252, 48.168]            1   \n",
       "2      0  STON/O2. 3101282   7.9250        S  (16.336, 32.252]            0   \n",
       "3      0            113803  53.1000        S  (32.252, 48.168]            1   \n",
       "4      0            373450   8.0500        S  (32.252, 48.168]            0   \n",
       "\n",
       "   Embarked_num  \n",
       "0           2.0  \n",
       "1           0.0  \n",
       "2           2.0  \n",
       "3           2.0  \n",
       "4           2.0  "
      ]
     },
     "execution_count": 45,
     "metadata": {},
     "output_type": "execute_result"
    }
   ],
   "source": [
    "df_train.head()"
   ]
  },
  {
   "cell_type": "code",
   "execution_count": 46,
   "id": "8ae820fb",
   "metadata": {
    "execution": {
     "iopub.execute_input": "2022-08-03T17:19:26.898392Z",
     "iopub.status.busy": "2022-08-03T17:19:26.897397Z",
     "iopub.status.idle": "2022-08-03T17:19:26.905302Z",
     "shell.execute_reply": "2022-08-03T17:19:26.904174Z"
    },
    "papermill": {
     "duration": 0.038377,
     "end_time": "2022-08-03T17:19:26.907463",
     "exception": false,
     "start_time": "2022-08-03T17:19:26.869086",
     "status": "completed"
    },
    "tags": []
   },
   "outputs": [
    {
     "data": {
      "text/plain": [
       "array([ 2.,  0.,  1., nan])"
      ]
     },
     "execution_count": 46,
     "metadata": {},
     "output_type": "execute_result"
    }
   ],
   "source": [
    "df_train[\"Embarked_num\"].unique()\n",
    "# 0 = C,1 = Q,S = 2 "
   ]
  },
  {
   "cell_type": "code",
   "execution_count": 47,
   "id": "eece65cf",
   "metadata": {
    "execution": {
     "iopub.execute_input": "2022-08-03T17:19:26.965766Z",
     "iopub.status.busy": "2022-08-03T17:19:26.964610Z",
     "iopub.status.idle": "2022-08-03T17:19:26.973523Z",
     "shell.execute_reply": "2022-08-03T17:19:26.972661Z"
    },
    "papermill": {
     "duration": 0.039558,
     "end_time": "2022-08-03T17:19:26.975740",
     "exception": false,
     "start_time": "2022-08-03T17:19:26.936182",
     "status": "completed"
    },
    "tags": []
   },
   "outputs": [
    {
     "data": {
      "text/plain": [
       "0    S\n",
       "dtype: object"
      ]
     },
     "execution_count": 47,
     "metadata": {},
     "output_type": "execute_result"
    }
   ],
   "source": [
    "embarked_mode = df_train[\"Embarked\"].mode()\n",
    "embarked_mode.astype(str)"
   ]
  },
  {
   "cell_type": "code",
   "execution_count": 48,
   "id": "7c57bcec",
   "metadata": {
    "execution": {
     "iopub.execute_input": "2022-08-03T17:19:27.032311Z",
     "iopub.status.busy": "2022-08-03T17:19:27.031404Z",
     "iopub.status.idle": "2022-08-03T17:19:27.038119Z",
     "shell.execute_reply": "2022-08-03T17:19:27.036963Z"
    },
    "papermill": {
     "duration": 0.037684,
     "end_time": "2022-08-03T17:19:27.040710",
     "exception": false,
     "start_time": "2022-08-03T17:19:27.003026",
     "status": "completed"
    },
    "tags": []
   },
   "outputs": [],
   "source": [
    "df_train[\"Embarked_num\"].fillna(df_train[\"Embarked_num\"].median(),inplace=True)"
   ]
  },
  {
   "cell_type": "code",
   "execution_count": 49,
   "id": "3dfcc922",
   "metadata": {
    "execution": {
     "iopub.execute_input": "2022-08-03T17:19:27.097847Z",
     "iopub.status.busy": "2022-08-03T17:19:27.096873Z",
     "iopub.status.idle": "2022-08-03T17:19:27.106746Z",
     "shell.execute_reply": "2022-08-03T17:19:27.105816Z"
    },
    "papermill": {
     "duration": 0.040218,
     "end_time": "2022-08-03T17:19:27.108809",
     "exception": false,
     "start_time": "2022-08-03T17:19:27.068591",
     "status": "completed"
    },
    "tags": []
   },
   "outputs": [
    {
     "data": {
      "text/plain": [
       "PassengerId     0\n",
       "Survived        0\n",
       "Pclass          0\n",
       "Name            0\n",
       "Sex             0\n",
       "Age             0\n",
       "SibSp           0\n",
       "Parch           0\n",
       "Ticket          0\n",
       "Fare            0\n",
       "Embarked        2\n",
       "Age_bands       0\n",
       "Family_size     0\n",
       "Embarked_num    0\n",
       "dtype: int64"
      ]
     },
     "execution_count": 49,
     "metadata": {},
     "output_type": "execute_result"
    }
   ],
   "source": [
    "df_train.isnull().sum()"
   ]
  },
  {
   "cell_type": "code",
   "execution_count": 50,
   "id": "1399e722",
   "metadata": {
    "execution": {
     "iopub.execute_input": "2022-08-03T17:19:27.165056Z",
     "iopub.status.busy": "2022-08-03T17:19:27.164245Z",
     "iopub.status.idle": "2022-08-03T17:19:27.171395Z",
     "shell.execute_reply": "2022-08-03T17:19:27.169651Z"
    },
    "papermill": {
     "duration": 0.039736,
     "end_time": "2022-08-03T17:19:27.175538",
     "exception": false,
     "start_time": "2022-08-03T17:19:27.135802",
     "status": "completed"
    },
    "tags": []
   },
   "outputs": [],
   "source": [
    "df_train.drop(['Embarked'],axis=1,inplace=True)"
   ]
  },
  {
   "cell_type": "code",
   "execution_count": 51,
   "id": "f04916ed",
   "metadata": {
    "execution": {
     "iopub.execute_input": "2022-08-03T17:19:27.245335Z",
     "iopub.status.busy": "2022-08-03T17:19:27.244705Z",
     "iopub.status.idle": "2022-08-03T17:19:27.251371Z",
     "shell.execute_reply": "2022-08-03T17:19:27.250025Z"
    },
    "papermill": {
     "duration": 0.048742,
     "end_time": "2022-08-03T17:19:27.254270",
     "exception": false,
     "start_time": "2022-08-03T17:19:27.205528",
     "status": "completed"
    },
    "tags": []
   },
   "outputs": [],
   "source": [
    "new_cat_feats.remove(\"Embarked\")"
   ]
  },
  {
   "cell_type": "code",
   "execution_count": 52,
   "id": "120f8b4c",
   "metadata": {
    "execution": {
     "iopub.execute_input": "2022-08-03T17:19:27.318915Z",
     "iopub.status.busy": "2022-08-03T17:19:27.318201Z",
     "iopub.status.idle": "2022-08-03T17:19:27.339923Z",
     "shell.execute_reply": "2022-08-03T17:19:27.339002Z"
    },
    "papermill": {
     "duration": 0.054299,
     "end_time": "2022-08-03T17:19:27.342345",
     "exception": false,
     "start_time": "2022-08-03T17:19:27.288046",
     "status": "completed"
    },
    "tags": []
   },
   "outputs": [
    {
     "data": {
      "text/html": [
       "<div>\n",
       "<style scoped>\n",
       "    .dataframe tbody tr th:only-of-type {\n",
       "        vertical-align: middle;\n",
       "    }\n",
       "\n",
       "    .dataframe tbody tr th {\n",
       "        vertical-align: top;\n",
       "    }\n",
       "\n",
       "    .dataframe thead th {\n",
       "        text-align: right;\n",
       "    }\n",
       "</style>\n",
       "<table border=\"1\" class=\"dataframe\">\n",
       "  <thead>\n",
       "    <tr style=\"text-align: right;\">\n",
       "      <th></th>\n",
       "      <th>PassengerId</th>\n",
       "      <th>Survived</th>\n",
       "      <th>Pclass</th>\n",
       "      <th>Name</th>\n",
       "      <th>Sex</th>\n",
       "      <th>Age</th>\n",
       "      <th>SibSp</th>\n",
       "      <th>Parch</th>\n",
       "      <th>Ticket</th>\n",
       "      <th>Fare</th>\n",
       "      <th>Age_bands</th>\n",
       "      <th>Family_size</th>\n",
       "      <th>Embarked_num</th>\n",
       "      <th>Title</th>\n",
       "    </tr>\n",
       "  </thead>\n",
       "  <tbody>\n",
       "    <tr>\n",
       "      <th>0</th>\n",
       "      <td>1</td>\n",
       "      <td>0</td>\n",
       "      <td>3</td>\n",
       "      <td>Braund, Mr. Owen Harris</td>\n",
       "      <td>male</td>\n",
       "      <td>0.0</td>\n",
       "      <td>1</td>\n",
       "      <td>0</td>\n",
       "      <td>A/5 21171</td>\n",
       "      <td>7.2500</td>\n",
       "      <td>(16.336, 32.252]</td>\n",
       "      <td>1</td>\n",
       "      <td>2.0</td>\n",
       "      <td>Mr</td>\n",
       "    </tr>\n",
       "    <tr>\n",
       "      <th>1</th>\n",
       "      <td>2</td>\n",
       "      <td>1</td>\n",
       "      <td>1</td>\n",
       "      <td>Cumings, Mrs. John Bradley (Florence Briggs Th...</td>\n",
       "      <td>female</td>\n",
       "      <td>2.0</td>\n",
       "      <td>1</td>\n",
       "      <td>0</td>\n",
       "      <td>PC 17599</td>\n",
       "      <td>71.2833</td>\n",
       "      <td>(32.252, 48.168]</td>\n",
       "      <td>1</td>\n",
       "      <td>0.0</td>\n",
       "      <td>Mrs</td>\n",
       "    </tr>\n",
       "    <tr>\n",
       "      <th>2</th>\n",
       "      <td>3</td>\n",
       "      <td>1</td>\n",
       "      <td>3</td>\n",
       "      <td>Heikkinen, Miss. Laina</td>\n",
       "      <td>female</td>\n",
       "      <td>0.0</td>\n",
       "      <td>0</td>\n",
       "      <td>0</td>\n",
       "      <td>STON/O2. 3101282</td>\n",
       "      <td>7.9250</td>\n",
       "      <td>(16.336, 32.252]</td>\n",
       "      <td>0</td>\n",
       "      <td>2.0</td>\n",
       "      <td>Miss</td>\n",
       "    </tr>\n",
       "    <tr>\n",
       "      <th>3</th>\n",
       "      <td>4</td>\n",
       "      <td>1</td>\n",
       "      <td>1</td>\n",
       "      <td>Futrelle, Mrs. Jacques Heath (Lily May Peel)</td>\n",
       "      <td>female</td>\n",
       "      <td>2.0</td>\n",
       "      <td>1</td>\n",
       "      <td>0</td>\n",
       "      <td>113803</td>\n",
       "      <td>53.1000</td>\n",
       "      <td>(32.252, 48.168]</td>\n",
       "      <td>1</td>\n",
       "      <td>2.0</td>\n",
       "      <td>Mrs</td>\n",
       "    </tr>\n",
       "    <tr>\n",
       "      <th>4</th>\n",
       "      <td>5</td>\n",
       "      <td>0</td>\n",
       "      <td>3</td>\n",
       "      <td>Allen, Mr. William Henry</td>\n",
       "      <td>male</td>\n",
       "      <td>2.0</td>\n",
       "      <td>0</td>\n",
       "      <td>0</td>\n",
       "      <td>373450</td>\n",
       "      <td>8.0500</td>\n",
       "      <td>(32.252, 48.168]</td>\n",
       "      <td>0</td>\n",
       "      <td>2.0</td>\n",
       "      <td>Mr</td>\n",
       "    </tr>\n",
       "  </tbody>\n",
       "</table>\n",
       "</div>"
      ],
      "text/plain": [
       "   PassengerId  Survived  Pclass  \\\n",
       "0            1         0       3   \n",
       "1            2         1       1   \n",
       "2            3         1       3   \n",
       "3            4         1       1   \n",
       "4            5         0       3   \n",
       "\n",
       "                                                Name     Sex  Age  SibSp  \\\n",
       "0                            Braund, Mr. Owen Harris    male  0.0      1   \n",
       "1  Cumings, Mrs. John Bradley (Florence Briggs Th...  female  2.0      1   \n",
       "2                             Heikkinen, Miss. Laina  female  0.0      0   \n",
       "3       Futrelle, Mrs. Jacques Heath (Lily May Peel)  female  2.0      1   \n",
       "4                           Allen, Mr. William Henry    male  2.0      0   \n",
       "\n",
       "   Parch            Ticket     Fare         Age_bands  Family_size  \\\n",
       "0      0         A/5 21171   7.2500  (16.336, 32.252]            1   \n",
       "1      0          PC 17599  71.2833  (32.252, 48.168]            1   \n",
       "2      0  STON/O2. 3101282   7.9250  (16.336, 32.252]            0   \n",
       "3      0            113803  53.1000  (32.252, 48.168]            1   \n",
       "4      0            373450   8.0500  (32.252, 48.168]            0   \n",
       "\n",
       "   Embarked_num Title  \n",
       "0           2.0    Mr  \n",
       "1           0.0   Mrs  \n",
       "2           2.0  Miss  \n",
       "3           2.0   Mrs  \n",
       "4           2.0    Mr  "
      ]
     },
     "execution_count": 52,
     "metadata": {},
     "output_type": "execute_result"
    }
   ],
   "source": [
    "df_train[\"Title\"] = df_train[\"Name\"].str.extract(' ([A-Za-z]+)\\.', expand=False)\n",
    "df_train.head()"
   ]
  },
  {
   "cell_type": "code",
   "execution_count": 53,
   "id": "30bb2dfe",
   "metadata": {
    "execution": {
     "iopub.execute_input": "2022-08-03T17:19:27.402085Z",
     "iopub.status.busy": "2022-08-03T17:19:27.401395Z",
     "iopub.status.idle": "2022-08-03T17:19:27.411310Z",
     "shell.execute_reply": "2022-08-03T17:19:27.410202Z"
    },
    "papermill": {
     "duration": 0.041191,
     "end_time": "2022-08-03T17:19:27.413463",
     "exception": false,
     "start_time": "2022-08-03T17:19:27.372272",
     "status": "completed"
    },
    "tags": []
   },
   "outputs": [
    {
     "data": {
      "text/plain": [
       "Mr          517\n",
       "Miss        182\n",
       "Mrs         125\n",
       "Master       40\n",
       "Dr            7\n",
       "Rev           6\n",
       "Mlle          2\n",
       "Major         2\n",
       "Col           2\n",
       "Countess      1\n",
       "Capt          1\n",
       "Ms            1\n",
       "Sir           1\n",
       "Lady          1\n",
       "Mme           1\n",
       "Don           1\n",
       "Jonkheer      1\n",
       "Name: Title, dtype: int64"
      ]
     },
     "execution_count": 53,
     "metadata": {},
     "output_type": "execute_result"
    }
   ],
   "source": [
    "df_train[\"Title\"].value_counts()"
   ]
  },
  {
   "cell_type": "code",
   "execution_count": 54,
   "id": "9c030458",
   "metadata": {
    "execution": {
     "iopub.execute_input": "2022-08-03T17:19:27.470647Z",
     "iopub.status.busy": "2022-08-03T17:19:27.470245Z",
     "iopub.status.idle": "2022-08-03T17:19:27.480546Z",
     "shell.execute_reply": "2022-08-03T17:19:27.479394Z"
    },
    "papermill": {
     "duration": 0.042204,
     "end_time": "2022-08-03T17:19:27.483188",
     "exception": false,
     "start_time": "2022-08-03T17:19:27.440984",
     "status": "completed"
    },
    "tags": []
   },
   "outputs": [],
   "source": [
    "df_train['Title'] = df_train['Title'].replace(['Lady', 'Countess','Capt', 'Col','Don', 'Dr', 'Major', 'Rev', 'Sir', 'Jonkheer', 'Dona'], 'Rare')\n",
    "df_train['Title'] = df_train['Title'].replace(['Mlle','Ms'], 'Miss')\n",
    "df_train['Title'] = df_train['Title'].replace('Mlle', 'Miss')\n",
    "df_train['Title'] = df_train['Title'].replace('Mnme', 'Miss')"
   ]
  },
  {
   "cell_type": "code",
   "execution_count": 55,
   "id": "f25fab19",
   "metadata": {
    "execution": {
     "iopub.execute_input": "2022-08-03T17:19:27.540392Z",
     "iopub.status.busy": "2022-08-03T17:19:27.539999Z",
     "iopub.status.idle": "2022-08-03T17:19:27.741883Z",
     "shell.execute_reply": "2022-08-03T17:19:27.740992Z"
    },
    "papermill": {
     "duration": 0.233429,
     "end_time": "2022-08-03T17:19:27.744267",
     "exception": false,
     "start_time": "2022-08-03T17:19:27.510838",
     "status": "completed"
    },
    "tags": []
   },
   "outputs": [
    {
     "data": {
      "text/plain": [
       "<AxesSubplot:xlabel='Title'>"
      ]
     },
     "execution_count": 55,
     "metadata": {},
     "output_type": "execute_result"
    },
    {
     "data": {
      "image/png": "[encoded data removed]",
      "text/plain": [
       "<Figure size 432x288 with 1 Axes>"
      ]
     },
     "metadata": {
      "needs_background": "light"
     },
     "output_type": "display_data"
    }
   ],
   "source": [
    "df_train.groupby('Title')[\"Survived\"].mean().plot.bar()"
   ]
  },
  {
   "cell_type": "code",
   "execution_count": 56,
   "id": "3a28ff1a",
   "metadata": {
    "execution": {
     "iopub.execute_input": "2022-08-03T17:19:27.802395Z",
     "iopub.status.busy": "2022-08-03T17:19:27.801685Z",
     "iopub.status.idle": "2022-08-03T17:19:27.808006Z",
     "shell.execute_reply": "2022-08-03T17:19:27.807138Z"
    },
    "papermill": {
     "duration": 0.038079,
     "end_time": "2022-08-03T17:19:27.810226",
     "exception": false,
     "start_time": "2022-08-03T17:19:27.772147",
     "status": "completed"
    },
    "tags": []
   },
   "outputs": [],
   "source": [
    "df_train.drop(\"Age_bands\",axis=1,inplace=True)"
   ]
  },
  {
   "cell_type": "code",
   "execution_count": 57,
   "id": "1a3528b7",
   "metadata": {
    "execution": {
     "iopub.execute_input": "2022-08-03T17:19:27.869828Z",
     "iopub.status.busy": "2022-08-03T17:19:27.869456Z",
     "iopub.status.idle": "2022-08-03T17:19:27.876806Z",
     "shell.execute_reply": "2022-08-03T17:19:27.875911Z"
    },
    "papermill": {
     "duration": 0.039765,
     "end_time": "2022-08-03T17:19:27.879097",
     "exception": false,
     "start_time": "2022-08-03T17:19:27.839332",
     "status": "completed"
    },
    "tags": []
   },
   "outputs": [],
   "source": [
    "ord_encoder = OrdinalEncoder()\n",
    "title_col = df_train[[\"Title\"]]\n",
    "encoded_title = ord_encoder.fit_transform(title_col)\n",
    "df_train[\"Title_num\"] = encoded_title"
   ]
  },
  {
   "cell_type": "code",
   "execution_count": 58,
   "id": "52261f81",
   "metadata": {
    "execution": {
     "iopub.execute_input": "2022-08-03T17:19:27.936717Z",
     "iopub.status.busy": "2022-08-03T17:19:27.936088Z",
     "iopub.status.idle": "2022-08-03T17:19:27.943631Z",
     "shell.execute_reply": "2022-08-03T17:19:27.942802Z"
    },
    "papermill": {
     "duration": 0.038419,
     "end_time": "2022-08-03T17:19:27.945565",
     "exception": false,
     "start_time": "2022-08-03T17:19:27.907146",
     "status": "completed"
    },
    "tags": []
   },
   "outputs": [],
   "source": [
    "X = df_train.copy()\n",
    "X.drop(new_cat_feats,axis=1,inplace=True)\n",
    "X.drop(\"Title\",axis=1,inplace=True)\n",
    "y = X.pop(\"Survived\")"
   ]
  },
  {
   "cell_type": "code",
   "execution_count": 59,
   "id": "92388d9f",
   "metadata": {
    "execution": {
     "iopub.execute_input": "2022-08-03T17:19:28.004306Z",
     "iopub.status.busy": "2022-08-03T17:19:28.003644Z",
     "iopub.status.idle": "2022-08-03T17:19:28.018328Z",
     "shell.execute_reply": "2022-08-03T17:19:28.017492Z"
    },
    "papermill": {
     "duration": 0.046898,
     "end_time": "2022-08-03T17:19:28.020546",
     "exception": false,
     "start_time": "2022-08-03T17:19:27.973648",
     "status": "completed"
    },
    "tags": []
   },
   "outputs": [
    {
     "data": {
      "text/html": [
       "<div>\n",
       "<style scoped>\n",
       "    .dataframe tbody tr th:only-of-type {\n",
       "        vertical-align: middle;\n",
       "    }\n",
       "\n",
       "    .dataframe tbody tr th {\n",
       "        vertical-align: top;\n",
       "    }\n",
       "\n",
       "    .dataframe thead th {\n",
       "        text-align: right;\n",
       "    }\n",
       "</style>\n",
       "<table border=\"1\" class=\"dataframe\">\n",
       "  <thead>\n",
       "    <tr style=\"text-align: right;\">\n",
       "      <th></th>\n",
       "      <th>PassengerId</th>\n",
       "      <th>Pclass</th>\n",
       "      <th>Age</th>\n",
       "      <th>SibSp</th>\n",
       "      <th>Parch</th>\n",
       "      <th>Fare</th>\n",
       "      <th>Family_size</th>\n",
       "      <th>Embarked_num</th>\n",
       "      <th>Title_num</th>\n",
       "    </tr>\n",
       "  </thead>\n",
       "  <tbody>\n",
       "    <tr>\n",
       "      <th>0</th>\n",
       "      <td>1</td>\n",
       "      <td>3</td>\n",
       "      <td>0.0</td>\n",
       "      <td>1</td>\n",
       "      <td>0</td>\n",
       "      <td>7.2500</td>\n",
       "      <td>1</td>\n",
       "      <td>2.0</td>\n",
       "      <td>3.0</td>\n",
       "    </tr>\n",
       "    <tr>\n",
       "      <th>1</th>\n",
       "      <td>2</td>\n",
       "      <td>1</td>\n",
       "      <td>2.0</td>\n",
       "      <td>1</td>\n",
       "      <td>0</td>\n",
       "      <td>71.2833</td>\n",
       "      <td>1</td>\n",
       "      <td>0.0</td>\n",
       "      <td>4.0</td>\n",
       "    </tr>\n",
       "    <tr>\n",
       "      <th>2</th>\n",
       "      <td>3</td>\n",
       "      <td>3</td>\n",
       "      <td>0.0</td>\n",
       "      <td>0</td>\n",
       "      <td>0</td>\n",
       "      <td>7.9250</td>\n",
       "      <td>0</td>\n",
       "      <td>2.0</td>\n",
       "      <td>1.0</td>\n",
       "    </tr>\n",
       "    <tr>\n",
       "      <th>3</th>\n",
       "      <td>4</td>\n",
       "      <td>1</td>\n",
       "      <td>2.0</td>\n",
       "      <td>1</td>\n",
       "      <td>0</td>\n",
       "      <td>53.1000</td>\n",
       "      <td>1</td>\n",
       "      <td>2.0</td>\n",
       "      <td>4.0</td>\n",
       "    </tr>\n",
       "    <tr>\n",
       "      <th>4</th>\n",
       "      <td>5</td>\n",
       "      <td>3</td>\n",
       "      <td>2.0</td>\n",
       "      <td>0</td>\n",
       "      <td>0</td>\n",
       "      <td>8.0500</td>\n",
       "      <td>0</td>\n",
       "      <td>2.0</td>\n",
       "      <td>3.0</td>\n",
       "    </tr>\n",
       "  </tbody>\n",
       "</table>\n",
       "</div>"
      ],
      "text/plain": [
       "   PassengerId  Pclass  Age  SibSp  Parch     Fare  Family_size  Embarked_num  \\\n",
       "0            1       3  0.0      1      0   7.2500            1           2.0   \n",
       "1            2       1  2.0      1      0  71.2833            1           0.0   \n",
       "2            3       3  0.0      0      0   7.9250            0           2.0   \n",
       "3            4       1  2.0      1      0  53.1000            1           2.0   \n",
       "4            5       3  2.0      0      0   8.0500            0           2.0   \n",
       "\n",
       "   Title_num  \n",
       "0        3.0  \n",
       "1        4.0  \n",
       "2        1.0  \n",
       "3        4.0  \n",
       "4        3.0  "
      ]
     },
     "execution_count": 59,
     "metadata": {},
     "output_type": "execute_result"
    }
   ],
   "source": [
    "X.head()"
   ]
  },
  {
   "cell_type": "code",
   "execution_count": 60,
   "id": "50e294c9",
   "metadata": {
    "execution": {
     "iopub.execute_input": "2022-08-03T17:19:28.079465Z",
     "iopub.status.busy": "2022-08-03T17:19:28.078752Z",
     "iopub.status.idle": "2022-08-03T17:19:28.138928Z",
     "shell.execute_reply": "2022-08-03T17:19:28.137859Z"
    },
    "papermill": {
     "duration": 0.092425,
     "end_time": "2022-08-03T17:19:28.141239",
     "exception": false,
     "start_time": "2022-08-03T17:19:28.048814",
     "status": "completed"
    },
    "tags": []
   },
   "outputs": [
    {
     "data": {
      "text/plain": [
       "Title_num       0.180164\n",
       "Fare            0.114338\n",
       "Parch           0.057533\n",
       "Family_size     0.057061\n",
       "Pclass          0.055787\n",
       "Age             0.051673\n",
       "PassengerId     0.014788\n",
       "SibSp           0.010971\n",
       "Embarked_num    0.000000\n",
       "Name: MI Scores, dtype: float64"
      ]
     },
     "execution_count": 60,
     "metadata": {},
     "output_type": "execute_result"
    }
   ],
   "source": [
    "mi_scores2= mutual_info_regression(X, y)\n",
    "mi_scores2 = pd.Series(mi_scores2, name=\"MI Scores\", index=X.columns)\n",
    "mi_scores2= mi_scores2.sort_values(ascending=False)\n",
    "mi_scores2"
   ]
  },
  {
   "cell_type": "code",
   "execution_count": 61,
   "id": "9188ca00",
   "metadata": {
    "execution": {
     "iopub.execute_input": "2022-08-03T17:19:28.199548Z",
     "iopub.status.busy": "2022-08-03T17:19:28.199172Z",
     "iopub.status.idle": "2022-08-03T17:19:28.217427Z",
     "shell.execute_reply": "2022-08-03T17:19:28.216409Z"
    },
    "papermill": {
     "duration": 0.050079,
     "end_time": "2022-08-03T17:19:28.219696",
     "exception": false,
     "start_time": "2022-08-03T17:19:28.169617",
     "status": "completed"
    },
    "tags": []
   },
   "outputs": [
    {
     "data": {
      "text/html": [
       "<div>\n",
       "<style scoped>\n",
       "    .dataframe tbody tr th:only-of-type {\n",
       "        vertical-align: middle;\n",
       "    }\n",
       "\n",
       "    .dataframe tbody tr th {\n",
       "        vertical-align: top;\n",
       "    }\n",
       "\n",
       "    .dataframe thead th {\n",
       "        text-align: right;\n",
       "    }\n",
       "</style>\n",
       "<table border=\"1\" class=\"dataframe\">\n",
       "  <thead>\n",
       "    <tr style=\"text-align: right;\">\n",
       "      <th></th>\n",
       "      <th>PassengerId</th>\n",
       "      <th>Survived</th>\n",
       "      <th>Pclass</th>\n",
       "      <th>Name</th>\n",
       "      <th>Sex</th>\n",
       "      <th>Age</th>\n",
       "      <th>SibSp</th>\n",
       "      <th>Parch</th>\n",
       "      <th>Ticket</th>\n",
       "      <th>Fare</th>\n",
       "      <th>Family_size</th>\n",
       "      <th>Embarked_num</th>\n",
       "      <th>Title</th>\n",
       "      <th>Title_num</th>\n",
       "    </tr>\n",
       "  </thead>\n",
       "  <tbody>\n",
       "    <tr>\n",
       "      <th>0</th>\n",
       "      <td>1</td>\n",
       "      <td>0</td>\n",
       "      <td>3</td>\n",
       "      <td>Braund, Mr. Owen Harris</td>\n",
       "      <td>male</td>\n",
       "      <td>0.0</td>\n",
       "      <td>1</td>\n",
       "      <td>0</td>\n",
       "      <td>A/5 21171</td>\n",
       "      <td>7.2500</td>\n",
       "      <td>1</td>\n",
       "      <td>2.0</td>\n",
       "      <td>Mr</td>\n",
       "      <td>3.0</td>\n",
       "    </tr>\n",
       "    <tr>\n",
       "      <th>1</th>\n",
       "      <td>2</td>\n",
       "      <td>1</td>\n",
       "      <td>1</td>\n",
       "      <td>Cumings, Mrs. John Bradley (Florence Briggs Th...</td>\n",
       "      <td>female</td>\n",
       "      <td>2.0</td>\n",
       "      <td>1</td>\n",
       "      <td>0</td>\n",
       "      <td>PC 17599</td>\n",
       "      <td>71.2833</td>\n",
       "      <td>1</td>\n",
       "      <td>0.0</td>\n",
       "      <td>Mrs</td>\n",
       "      <td>4.0</td>\n",
       "    </tr>\n",
       "    <tr>\n",
       "      <th>2</th>\n",
       "      <td>3</td>\n",
       "      <td>1</td>\n",
       "      <td>3</td>\n",
       "      <td>Heikkinen, Miss. Laina</td>\n",
       "      <td>female</td>\n",
       "      <td>0.0</td>\n",
       "      <td>0</td>\n",
       "      <td>0</td>\n",
       "      <td>STON/O2. 3101282</td>\n",
       "      <td>7.9250</td>\n",
       "      <td>0</td>\n",
       "      <td>2.0</td>\n",
       "      <td>Miss</td>\n",
       "      <td>1.0</td>\n",
       "    </tr>\n",
       "    <tr>\n",
       "      <th>3</th>\n",
       "      <td>4</td>\n",
       "      <td>1</td>\n",
       "      <td>1</td>\n",
       "      <td>Futrelle, Mrs. Jacques Heath (Lily May Peel)</td>\n",
       "      <td>female</td>\n",
       "      <td>2.0</td>\n",
       "      <td>1</td>\n",
       "      <td>0</td>\n",
       "      <td>113803</td>\n",
       "      <td>53.1000</td>\n",
       "      <td>1</td>\n",
       "      <td>2.0</td>\n",
       "      <td>Mrs</td>\n",
       "      <td>4.0</td>\n",
       "    </tr>\n",
       "    <tr>\n",
       "      <th>4</th>\n",
       "      <td>5</td>\n",
       "      <td>0</td>\n",
       "      <td>3</td>\n",
       "      <td>Allen, Mr. William Henry</td>\n",
       "      <td>male</td>\n",
       "      <td>2.0</td>\n",
       "      <td>0</td>\n",
       "      <td>0</td>\n",
       "      <td>373450</td>\n",
       "      <td>8.0500</td>\n",
       "      <td>0</td>\n",
       "      <td>2.0</td>\n",
       "      <td>Mr</td>\n",
       "      <td>3.0</td>\n",
       "    </tr>\n",
       "  </tbody>\n",
       "</table>\n",
       "</div>"
      ],
      "text/plain": [
       "   PassengerId  Survived  Pclass  \\\n",
       "0            1         0       3   \n",
       "1            2         1       1   \n",
       "2            3         1       3   \n",
       "3            4         1       1   \n",
       "4            5         0       3   \n",
       "\n",
       "                                                Name     Sex  Age  SibSp  \\\n",
       "0                            Braund, Mr. Owen Harris    male  0.0      1   \n",
       "1  Cumings, Mrs. John Bradley (Florence Briggs Th...  female  2.0      1   \n",
       "2                             Heikkinen, Miss. Laina  female  0.0      0   \n",
       "3       Futrelle, Mrs. Jacques Heath (Lily May Peel)  female  2.0      1   \n",
       "4                           Allen, Mr. William Henry    male  2.0      0   \n",
       "\n",
       "   Parch            Ticket     Fare  Family_size  Embarked_num Title  \\\n",
       "0      0         A/5 21171   7.2500            1           2.0    Mr   \n",
       "1      0          PC 17599  71.2833            1           0.0   Mrs   \n",
       "2      0  STON/O2. 3101282   7.9250            0           2.0  Miss   \n",
       "3      0            113803  53.1000            1           2.0   Mrs   \n",
       "4      0            373450   8.0500            0           2.0    Mr   \n",
       "\n",
       "   Title_num  \n",
       "0        3.0  \n",
       "1        4.0  \n",
       "2        1.0  \n",
       "3        4.0  \n",
       "4        3.0  "
      ]
     },
     "execution_count": 61,
     "metadata": {},
     "output_type": "execute_result"
    }
   ],
   "source": [
    "df_train.head()"
   ]
  },
  {
   "cell_type": "code",
   "execution_count": 62,
   "id": "ba2e2c30",
   "metadata": {
    "execution": {
     "iopub.execute_input": "2022-08-03T17:19:28.278883Z",
     "iopub.status.busy": "2022-08-03T17:19:28.278256Z",
     "iopub.status.idle": "2022-08-03T17:19:28.285634Z",
     "shell.execute_reply": "2022-08-03T17:19:28.284786Z"
    },
    "papermill": {
     "duration": 0.039712,
     "end_time": "2022-08-03T17:19:28.287836",
     "exception": false,
     "start_time": "2022-08-03T17:19:28.248124",
     "status": "completed"
    },
    "tags": []
   },
   "outputs": [],
   "source": [
    "X = df_train.copy()\n",
    "y = X.pop(\"Survived\")\n",
    "x_feats = [\"Title_num\",\"Fare\",\"Family_size\",\"Pclass\"]\n",
    "X = df_train.loc[:,x_feats]\n"
   ]
  },
  {
   "cell_type": "code",
   "execution_count": 63,
   "id": "f5f7c503",
   "metadata": {
    "execution": {
     "iopub.execute_input": "2022-08-03T17:19:28.347102Z",
     "iopub.status.busy": "2022-08-03T17:19:28.346377Z",
     "iopub.status.idle": "2022-08-03T17:19:28.510585Z",
     "shell.execute_reply": "2022-08-03T17:19:28.509655Z"
    },
    "papermill": {
     "duration": 0.196755,
     "end_time": "2022-08-03T17:19:28.513178",
     "exception": false,
     "start_time": "2022-08-03T17:19:28.316423",
     "status": "completed"
    },
    "tags": []
   },
   "outputs": [],
   "source": [
    "# K-Means\n",
    "from sklearn.cluster import KMeans\n",
    "X_scaled = (X - X.mean(axis=0))/X.std(axis=0)\n",
    "kmeans = KMeans(n_clusters=10, random_state=0)\n",
    "X[\"Cluster\"] = kmeans.fit_predict(X_scaled)"
   ]
  },
  {
   "cell_type": "code",
   "execution_count": 64,
   "id": "80e0fbd5",
   "metadata": {
    "execution": {
     "iopub.execute_input": "2022-08-03T17:19:28.573733Z",
     "iopub.status.busy": "2022-08-03T17:19:28.573042Z",
     "iopub.status.idle": "2022-08-03T17:19:28.584931Z",
     "shell.execute_reply": "2022-08-03T17:19:28.584144Z"
    },
    "papermill": {
     "duration": 0.043296,
     "end_time": "2022-08-03T17:19:28.586941",
     "exception": false,
     "start_time": "2022-08-03T17:19:28.543645",
     "status": "completed"
    },
    "tags": []
   },
   "outputs": [
    {
     "data": {
      "text/html": [
       "<div>\n",
       "<style scoped>\n",
       "    .dataframe tbody tr th:only-of-type {\n",
       "        vertical-align: middle;\n",
       "    }\n",
       "\n",
       "    .dataframe tbody tr th {\n",
       "        vertical-align: top;\n",
       "    }\n",
       "\n",
       "    .dataframe thead th {\n",
       "        text-align: right;\n",
       "    }\n",
       "</style>\n",
       "<table border=\"1\" class=\"dataframe\">\n",
       "  <thead>\n",
       "    <tr style=\"text-align: right;\">\n",
       "      <th></th>\n",
       "      <th>Title_num</th>\n",
       "      <th>Fare</th>\n",
       "      <th>Family_size</th>\n",
       "      <th>Pclass</th>\n",
       "      <th>Cluster</th>\n",
       "    </tr>\n",
       "  </thead>\n",
       "  <tbody>\n",
       "    <tr>\n",
       "      <th>0</th>\n",
       "      <td>3.0</td>\n",
       "      <td>7.2500</td>\n",
       "      <td>1</td>\n",
       "      <td>3</td>\n",
       "      <td>0</td>\n",
       "    </tr>\n",
       "    <tr>\n",
       "      <th>1</th>\n",
       "      <td>4.0</td>\n",
       "      <td>71.2833</td>\n",
       "      <td>1</td>\n",
       "      <td>1</td>\n",
       "      <td>3</td>\n",
       "    </tr>\n",
       "    <tr>\n",
       "      <th>2</th>\n",
       "      <td>1.0</td>\n",
       "      <td>7.9250</td>\n",
       "      <td>0</td>\n",
       "      <td>3</td>\n",
       "      <td>4</td>\n",
       "    </tr>\n",
       "    <tr>\n",
       "      <th>3</th>\n",
       "      <td>4.0</td>\n",
       "      <td>53.1000</td>\n",
       "      <td>1</td>\n",
       "      <td>1</td>\n",
       "      <td>3</td>\n",
       "    </tr>\n",
       "    <tr>\n",
       "      <th>4</th>\n",
       "      <td>3.0</td>\n",
       "      <td>8.0500</td>\n",
       "      <td>0</td>\n",
       "      <td>3</td>\n",
       "      <td>0</td>\n",
       "    </tr>\n",
       "  </tbody>\n",
       "</table>\n",
       "</div>"
      ],
      "text/plain": [
       "   Title_num     Fare  Family_size  Pclass  Cluster\n",
       "0        3.0   7.2500            1       3        0\n",
       "1        4.0  71.2833            1       1        3\n",
       "2        1.0   7.9250            0       3        4\n",
       "3        4.0  53.1000            1       1        3\n",
       "4        3.0   8.0500            0       3        0"
      ]
     },
     "execution_count": 64,
     "metadata": {},
     "output_type": "execute_result"
    }
   ],
   "source": [
    "X.head()"
   ]
  },
  {
   "cell_type": "code",
   "execution_count": 65,
   "id": "e8b1e059",
   "metadata": {
    "execution": {
     "iopub.execute_input": "2022-08-03T17:19:28.646429Z",
     "iopub.status.busy": "2022-08-03T17:19:28.645666Z",
     "iopub.status.idle": "2022-08-03T17:19:34.383813Z",
     "shell.execute_reply": "2022-08-03T17:19:34.382676Z"
    },
    "papermill": {
     "duration": 5.771367,
     "end_time": "2022-08-03T17:19:34.387022",
     "exception": false,
     "start_time": "2022-08-03T17:19:28.615655",
     "status": "completed"
    },
    "tags": []
   },
   "outputs": [
    {
     "data": {
      "image/png": "[encoded data removed]",
      "text/plain": [
       "<Figure size 432x288 with 1 Axes>"
      ]
     },
     "metadata": {
      "needs_background": "light"
     },
     "output_type": "display_data"
    },
    {
     "data": {
      "image/png": "[encoded data removed]",
      "text/plain": [
       "<Figure size 432x288 with 1 Axes>"
      ]
     },
     "metadata": {
      "needs_background": "light"
     },
     "output_type": "display_data"
    },
    {
     "data": {
      "image/png": "[encoded data removed]",
      "text/plain": [
       "<Figure size 432x288 with 1 Axes>"
      ]
     },
     "metadata": {
      "needs_background": "light"
     },
     "output_type": "display_data"
    },
    {
     "data": {
      "image/png": "[encoded data removed]",
      "text/plain": [
       "<Figure size 432x288 with 1 Axes>"
      ]
     },
     "metadata": {
      "needs_background": "light"
     },
     "output_type": "display_data"
    }
   ],
   "source": [
    "for col in x_feats:\n",
    "    sns.histplot(data = X,x = col,hue = \"Cluster\",kde=True)\n",
    "    plt.show()"
   ]
  },
  {
   "cell_type": "code",
   "execution_count": 66,
   "id": "1d0d8ae4",
   "metadata": {
    "execution": {
     "iopub.execute_input": "2022-08-03T17:19:34.455555Z",
     "iopub.status.busy": "2022-08-03T17:19:34.455172Z",
     "iopub.status.idle": "2022-08-03T17:19:34.460989Z",
     "shell.execute_reply": "2022-08-03T17:19:34.459712Z"
    },
    "papermill": {
     "duration": 0.043309,
     "end_time": "2022-08-03T17:19:34.463698",
     "exception": false,
     "start_time": "2022-08-03T17:19:34.420389",
     "status": "completed"
    },
    "tags": []
   },
   "outputs": [],
   "source": [
    "df_train[\"Clust1\"] = X[\"Cluster\"]\n",
    "# CHANGE : Use the K means distances as features instead of the clusters as features"
   ]
  },
  {
   "cell_type": "code",
   "execution_count": 67,
   "id": "ac071d55",
   "metadata": {
    "execution": {
     "iopub.execute_input": "2022-08-03T17:19:34.526042Z",
     "iopub.status.busy": "2022-08-03T17:19:34.525637Z",
     "iopub.status.idle": "2022-08-03T17:19:34.536342Z",
     "shell.execute_reply": "2022-08-03T17:19:34.535219Z"
    },
    "papermill": {
     "duration": 0.044911,
     "end_time": "2022-08-03T17:19:34.538992",
     "exception": false,
     "start_time": "2022-08-03T17:19:34.494081",
     "status": "completed"
    },
    "tags": []
   },
   "outputs": [],
   "source": [
    "# PCA\n",
    "X = df_train.copy()\n",
    "y = X.pop(\"Survived\")\n",
    "X= X.loc[:,x_feats]\n",
    "X_scaled = (X - X.mean(axis=0))/X.std(axis=0)"
   ]
  },
  {
   "cell_type": "code",
   "execution_count": 68,
   "id": "9453fb34",
   "metadata": {
    "execution": {
     "iopub.execute_input": "2022-08-03T17:19:34.606263Z",
     "iopub.status.busy": "2022-08-03T17:19:34.605441Z",
     "iopub.status.idle": "2022-08-03T17:19:34.624130Z",
     "shell.execute_reply": "2022-08-03T17:19:34.623011Z"
    },
    "papermill": {
     "duration": 0.055732,
     "end_time": "2022-08-03T17:19:34.626819",
     "exception": false,
     "start_time": "2022-08-03T17:19:34.571087",
     "status": "completed"
    },
    "tags": []
   },
   "outputs": [],
   "source": [
    "from sklearn.decomposition import PCA\n",
    "\n",
    "pca = PCA()\n",
    "X_pca = pca.fit_transform(X_scaled)"
   ]
  },
  {
   "cell_type": "code",
   "execution_count": 69,
   "id": "025e6ea5",
   "metadata": {
    "execution": {
     "iopub.execute_input": "2022-08-03T17:19:34.692108Z",
     "iopub.status.busy": "2022-08-03T17:19:34.691336Z",
     "iopub.status.idle": "2022-08-03T17:19:34.696557Z",
     "shell.execute_reply": "2022-08-03T17:19:34.695751Z"
    },
    "papermill": {
     "duration": 0.040679,
     "end_time": "2022-08-03T17:19:34.698609",
     "exception": false,
     "start_time": "2022-08-03T17:19:34.657930",
     "status": "completed"
    },
    "tags": []
   },
   "outputs": [],
   "source": [
    "X_pca = pd.DataFrame(X_pca,columns=[\"PC1\",\"PC2\",\"PC3\",\"PC4\"])"
   ]
  },
  {
   "cell_type": "code",
   "execution_count": 70,
   "id": "0b4a8769",
   "metadata": {
    "execution": {
     "iopub.execute_input": "2022-08-03T17:19:34.766335Z",
     "iopub.status.busy": "2022-08-03T17:19:34.765533Z",
     "iopub.status.idle": "2022-08-03T17:19:34.777350Z",
     "shell.execute_reply": "2022-08-03T17:19:34.776183Z"
    },
    "papermill": {
     "duration": 0.047803,
     "end_time": "2022-08-03T17:19:34.779657",
     "exception": false,
     "start_time": "2022-08-03T17:19:34.731854",
     "status": "completed"
    },
    "tags": []
   },
   "outputs": [
    {
     "data": {
      "text/html": [
       "<div>\n",
       "<style scoped>\n",
       "    .dataframe tbody tr th:only-of-type {\n",
       "        vertical-align: middle;\n",
       "    }\n",
       "\n",
       "    .dataframe tbody tr th {\n",
       "        vertical-align: top;\n",
       "    }\n",
       "\n",
       "    .dataframe thead th {\n",
       "        text-align: right;\n",
       "    }\n",
       "</style>\n",
       "<table border=\"1\" class=\"dataframe\">\n",
       "  <thead>\n",
       "    <tr style=\"text-align: right;\">\n",
       "      <th></th>\n",
       "      <th>PC1</th>\n",
       "      <th>PC2</th>\n",
       "      <th>PC3</th>\n",
       "      <th>PC4</th>\n",
       "    </tr>\n",
       "  </thead>\n",
       "  <tbody>\n",
       "    <tr>\n",
       "      <th>0</th>\n",
       "      <td>-0.900869</td>\n",
       "      <td>0.021176</td>\n",
       "      <td>0.421650</td>\n",
       "      <td>0.212293</td>\n",
       "    </tr>\n",
       "    <tr>\n",
       "      <th>1</th>\n",
       "      <td>1.627518</td>\n",
       "      <td>-1.130307</td>\n",
       "      <td>0.593661</td>\n",
       "      <td>-0.399489</td>\n",
       "    </tr>\n",
       "    <tr>\n",
       "      <th>2</th>\n",
       "      <td>-1.018047</td>\n",
       "      <td>0.774279</td>\n",
       "      <td>-1.240302</td>\n",
       "      <td>0.233069</td>\n",
       "    </tr>\n",
       "    <tr>\n",
       "      <th>3</th>\n",
       "      <td>1.365000</td>\n",
       "      <td>-1.162352</td>\n",
       "      <td>0.597479</td>\n",
       "      <td>-0.652339</td>\n",
       "    </tr>\n",
       "    <tr>\n",
       "      <th>4</th>\n",
       "      <td>-1.009491</td>\n",
       "      <td>-0.393403</td>\n",
       "      <td>0.012458</td>\n",
       "      <td>0.394729</td>\n",
       "    </tr>\n",
       "  </tbody>\n",
       "</table>\n",
       "</div>"
      ],
      "text/plain": [
       "        PC1       PC2       PC3       PC4\n",
       "0 -0.900869  0.021176  0.421650  0.212293\n",
       "1  1.627518 -1.130307  0.593661 -0.399489\n",
       "2 -1.018047  0.774279 -1.240302  0.233069\n",
       "3  1.365000 -1.162352  0.597479 -0.652339\n",
       "4 -1.009491 -0.393403  0.012458  0.394729"
      ]
     },
     "execution_count": 70,
     "metadata": {},
     "output_type": "execute_result"
    }
   ],
   "source": [
    "X_pca.head()"
   ]
  },
  {
   "cell_type": "code",
   "execution_count": 71,
   "id": "71140cb5",
   "metadata": {
    "execution": {
     "iopub.execute_input": "2022-08-03T17:19:34.843074Z",
     "iopub.status.busy": "2022-08-03T17:19:34.842586Z",
     "iopub.status.idle": "2022-08-03T17:19:35.057623Z",
     "shell.execute_reply": "2022-08-03T17:19:35.056690Z"
    },
    "papermill": {
     "duration": 0.249396,
     "end_time": "2022-08-03T17:19:35.059846",
     "exception": false,
     "start_time": "2022-08-03T17:19:34.810450",
     "status": "completed"
    },
    "tags": []
   },
   "outputs": [
    {
     "data": {
      "text/plain": [
       "<BarContainer object of 4 artists>"
      ]
     },
     "execution_count": 71,
     "metadata": {},
     "output_type": "execute_result"
    },
    {
     "data": {
      "image/png": "[encoded data removed]",
      "text/plain": [
       "<Figure size 432x288 with 1 Axes>"
      ]
     },
     "metadata": {
      "needs_background": "light"
     },
     "output_type": "display_data"
    }
   ],
   "source": [
    "evr = pca.explained_variance_ratio_\n",
    "plt.bar([1,2,3,4],evr)"
   ]
  },
  {
   "cell_type": "code",
   "execution_count": 72,
   "id": "5d7cea48",
   "metadata": {
    "execution": {
     "iopub.execute_input": "2022-08-03T17:19:35.127315Z",
     "iopub.status.busy": "2022-08-03T17:19:35.126611Z",
     "iopub.status.idle": "2022-08-03T17:19:35.159054Z",
     "shell.execute_reply": "2022-08-03T17:19:35.158209Z"
    },
    "papermill": {
     "duration": 0.068862,
     "end_time": "2022-08-03T17:19:35.161342",
     "exception": false,
     "start_time": "2022-08-03T17:19:35.092480",
     "status": "completed"
    },
    "tags": []
   },
   "outputs": [
    {
     "data": {
      "text/plain": [
       "Family_size    0.262448\n",
       "Fare           0.209113\n",
       "Title_num      0.154258\n",
       "Pclass         0.122719\n",
       "Name: MI Scores, dtype: float64"
      ]
     },
     "execution_count": 72,
     "metadata": {},
     "output_type": "execute_result"
    }
   ],
   "source": [
    "mi_scores3= mutual_info_regression(X_pca, y)\n",
    "mi_scores3 = pd.Series(mi_scores3, name=\"MI Scores\", index=X.columns)\n",
    "mi_scores3= mi_scores3.sort_values(ascending=False)\n",
    "mi_scores3"
   ]
  },
  {
   "cell_type": "code",
   "execution_count": null,
   "id": "3857c455",
   "metadata": {
    "papermill": {
     "duration": 0.032841,
     "end_time": "2022-08-03T17:19:35.226556",
     "exception": false,
     "start_time": "2022-08-03T17:19:35.193715",
     "status": "completed"
    },
    "tags": []
   },
   "outputs": [],
   "source": []
  }
 ],
 "metadata": {
  "kernelspec": {
   "display_name": "Python 3",
   "language": "python",
   "name": "python3"
  },
  "language_info": {
   "codemirror_mode": {
    "name": "ipython",
    "version": 3
   },
   "file_extension": ".py",
   "mimetype": "text/x-python",
   "name": "python",
   "nbconvert_exporter": "python",
   "pygments_lexer": "ipython3",
   "version": "3.7.12"
  },
  "papermill": {
   "default_parameters": {},
   "duration": 61.788079,
   "end_time": "2022-08-03T17:19:36.082339",
   "environment_variables": {},
   "exception": null,
   "input_path": "__notebook__.ipynb",
   "output_path": "__notebook__.ipynb",
   "parameters": {},
   "start_time": "2022-08-03T17:18:34.294260",
   "version": "2.3.4"
  }
 },
 "nbformat": 4,
 "nbformat_minor": 5
}
